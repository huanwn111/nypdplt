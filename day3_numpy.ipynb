{
 "cells": [
  {
   "cell_type": "code",
   "execution_count": 5,
   "metadata": {},
   "outputs": [
    {
     "name": "stdout",
     "output_type": "stream",
     "text": [
      "[1 3 8 2]\n",
      "[[1 2]\n",
      " [6 5]\n",
      " [8 9]]\n"
     ]
    }
   ],
   "source": [
    "import numpy\n",
    "\n",
    "vector = numpy.array([1,3,8,2]);#向量\n",
    "print(vector)\n",
    "matrix = numpy.array([[1,2],[6,5],[8,9]])#矩阵\n",
    "print(matrix);"
   ]
  },
  {
   "cell_type": "code",
   "execution_count": 4,
   "metadata": {},
   "outputs": [
    {
     "name": "stdout",
     "output_type": "stream",
     "text": [
      "(4,)\n",
      "(3, 2)\n"
     ]
    }
   ],
   "source": [
    "print(vector.shape);\n",
    "print(matrix.shape);"
   ]
  },
  {
   "cell_type": "code",
   "execution_count": 5,
   "metadata": {},
   "outputs": [
    {
     "name": "stdout",
     "output_type": "stream",
     "text": [
      "[ 1  3  8 10]\n",
      "int32\n"
     ]
    }
   ],
   "source": [
    "nums = numpy.array([1,3,8,10]);\n",
    "print(nums);\n",
    "print(nums.dtype);\n"
   ]
  },
  {
   "cell_type": "code",
   "execution_count": 10,
   "metadata": {},
   "outputs": [
    {
     "name": "stdout",
     "output_type": "stream",
     "text": [
      "[ 1.   3.   8.5 10. ]\n",
      "float64\n"
     ]
    }
   ],
   "source": [
    "nums2 = numpy.array([1,3,8.5,10]);\n",
    "print(nums2);\n",
    "print(nums2.dtype);"
   ]
  },
  {
   "cell_type": "code",
   "execution_count": 17,
   "metadata": {},
   "outputs": [
    {
     "name": "stdout",
     "output_type": "stream",
     "text": [
      "['1' '12' '8.5' '10']\n",
      "<U32\n"
     ]
    }
   ],
   "source": [
    "nums3 = numpy.array([1,12,8.5,'10']);\n",
    "print(nums3);\n",
    "print(nums3.dtype);"
   ]
  },
  {
   "cell_type": "code",
   "execution_count": 21,
   "metadata": {},
   "outputs": [
    {
     "name": "stdout",
     "output_type": "stream",
     "text": [
      "[['1989' '天天' '女' 'IT']\n",
      " ['1860' '大地' '男' '巫师']\n",
      " ['1990' '旺旺旺' '女' '网红']\n",
      " ['1870' '毛毛毛' '男' '汽修']]\n"
     ]
    }
   ],
   "source": [
    "#numpy取txt文件数据，后面用pandas，这里不常用，只试一例看看\n",
    "users = numpy.genfromtxt(\"user.txt\",delimiter = \",\", dtype=str, skip_header=1);\n",
    "#参数：文件路径，数据分割符，类型，是否要第一行。\n",
    "print(users);"
   ]
  },
  {
   "cell_type": "code",
   "execution_count": 24,
   "metadata": {},
   "outputs": [
    {
     "name": "stdout",
     "output_type": "stream",
     "text": [
      "IT\n"
     ]
    }
   ],
   "source": [
    "print(users[0,3]);#取第0个样本第3号值，索引从0开始\n"
   ]
  },
  {
   "cell_type": "code",
   "execution_count": 25,
   "metadata": {},
   "outputs": [
    {
     "name": "stdout",
     "output_type": "stream",
     "text": [
      "['1860' '大地' '男']\n"
     ]
    }
   ],
   "source": [
    "print(users[1,0:3]);#取第1个样本第0到2号值，包前不包后"
   ]
  },
  {
   "cell_type": "code",
   "execution_count": 26,
   "metadata": {},
   "outputs": [
    {
     "name": "stdout",
     "output_type": "stream",
     "text": [
      "['天天' '大地' '旺旺旺' '毛毛毛']\n"
     ]
    }
   ],
   "source": [
    "print(users[:,1]);#取:所有样本第1号值"
   ]
  },
  {
   "cell_type": "code",
   "execution_count": 30,
   "metadata": {},
   "outputs": [
    {
     "name": "stdout",
     "output_type": "stream",
     "text": [
      "[['旺旺旺' '女' '网红']\n",
      " ['毛毛毛' '男' '汽修']]\n"
     ]
    }
   ],
   "source": [
    "print(users[2:4,1:4])#取第2到3号样本第1到3个值"
   ]
  },
  {
   "cell_type": "code",
   "execution_count": 51,
   "metadata": {},
   "outputs": [
    {
     "name": "stdout",
     "output_type": "stream",
     "text": [
      "[False False False  True False]\n"
     ]
    },
    {
     "data": {
      "text/plain": [
       "array([False, False, False,  True, False])"
      ]
     },
     "execution_count": 51,
     "metadata": {},
     "output_type": "execute_result"
    }
   ],
   "source": [
    "vector2 = numpy.array([1,3,50,10,8]);\n",
    "print(vector2 == 10)#注意这行和下面一行返回的不同。\n",
    "vector2 == 10#返回的是里面元素每一个比对的布尔值\n"
   ]
  },
  {
   "cell_type": "code",
   "execution_count": 40,
   "metadata": {
    "scrolled": true
   },
   "outputs": [
    {
     "name": "stdout",
     "output_type": "stream",
     "text": [
      "[['1989' '天天' '女' 'IT']\n",
      " ['1860' '大地' '男' '巫师']\n",
      " ['1990' '旺旺旺' '女' '网红']\n",
      " ['1870' '毛毛毛' '男' '汽修']]\n",
      "[[False False  True False]\n",
      " [False False False False]\n",
      " [False False  True False]\n",
      " [False False False False]]\n"
     ]
    },
    {
     "data": {
      "text/plain": [
       "array([[False, False,  True, False],\n",
       "       [False, False, False, False],\n",
       "       [False, False,  True, False],\n",
       "       [False, False, False, False]])"
      ]
     },
     "execution_count": 40,
     "metadata": {},
     "output_type": "execute_result"
    }
   ],
   "source": [
    "matrix2 =numpy.array([['1989', '天天', '女', 'IT'],\n",
    " ['1860', '大地', '男' ,'巫师'],\n",
    " ['1990', '旺旺旺', '女', '网红'],\n",
    " ['1870', '毛毛毛', '男', '汽修']]);\n",
    "print(matrix2)\n",
    "print(matrix2 == '女');#注意这个和下面一条打印出的值有什么不同。\n",
    "matrix2 == '女'#挨个比对，反bool的矩阵。"
   ]
  },
  {
   "cell_type": "code",
   "execution_count": 53,
   "metadata": {},
   "outputs": [
    {
     "name": "stdout",
     "output_type": "stream",
     "text": [
      "[False  True False False False]\n",
      "[10]\n"
     ]
    }
   ],
   "source": [
    "vector3 = numpy.array([1,10,5,60,14]);\n",
    "trueIndex = (vector3 == 10);#这个值可以做索引，再次传进数组中取出为true的值，过滤掉false值。\n",
    "print(trueIndex);\n",
    "print(vector3[trueIndex]);"
   ]
  },
  {
   "cell_type": "code",
   "execution_count": 57,
   "metadata": {},
   "outputs": [
    {
     "name": "stdout",
     "output_type": "stream",
     "text": [
      "[False False  True False]\n",
      "[['1990' '旺旺旺' '女' '网红']]\n"
     ]
    }
   ],
   "source": [
    "matrix3 =numpy.array([['1989', '天天', '女', 'IT'],\n",
    " ['1860', '大地', '男' ,'巫师'],\n",
    " ['1990', '旺旺旺', '女', '网红'],\n",
    " ['1870', '毛毛毛', '男', '汽修']]);\n",
    "trueIndex = (matrix3[:,1] =='旺旺旺')\n",
    "#矩阵的定位到具体的行列。所有样本中第1号列为旺旺旺的\n",
    "print(trueIndex)\n",
    "print(matrix3[trueIndex,:])\n",
    "#取出这个样本。\n"
   ]
  },
  {
   "cell_type": "code",
   "execution_count": 66,
   "metadata": {},
   "outputs": [
    {
     "name": "stdout",
     "output_type": "stream",
     "text": [
      "[False False False False False False]\n",
      "[False  True False False False  True]\n"
     ]
    }
   ],
   "source": [
    "vector4 = numpy.array([1,20,10,36,84,5])#numpy.array的作用是生成矩阵对象，不加就是一个列表。\n",
    "if1 = (vector4 == 20) & (vector4 == 5)#与，一个&，两条件加括号\n",
    "if2 = (vector4 == 20 ) | (vector4 == 5)#或,一个|，两条件加括号\n",
    "print(if1)\n",
    "print(if2);"
   ]
  },
  {
   "cell_type": "code",
   "execution_count": 67,
   "metadata": {},
   "outputs": [
    {
     "name": "stdout",
     "output_type": "stream",
     "text": [
      "[100  20 100  50  45 100]\n"
     ]
    }
   ],
   "source": [
    "vc5 = numpy.array([1,20,6,50,45,6])\n",
    "if1 = (vc5 == 1)|(vc5 ==6)\n",
    "vc5[if1]=100;#给满足条件的做替换\n",
    "print(vc5)"
   ]
  },
  {
   "cell_type": "code",
   "execution_count": 70,
   "metadata": {},
   "outputs": [
    {
     "name": "stdout",
     "output_type": "stream",
     "text": [
      "[['1989' '天天' '女' 'IT']\n",
      " ['1860' '大地' '男' '巫师']\n",
      " ['1990' '小狗子' '女' '网红']\n",
      " ['1870' '小狗子' '男' '汽修']]\n"
     ]
    }
   ],
   "source": [
    "mt5 =numpy.array([['1989', '天天', '女', 'IT'],\n",
    " ['1860', '大地', '男' ,'巫师'],\n",
    " ['1990', '旺旺旺', '女', '网红'],\n",
    " ['1870', '毛毛毛', '男', '汽修']]);\n",
    "trueIndex = (matrix3[:,1] =='旺旺旺')\n",
    "#把上面“旺旺旺”和“毛毛毛”替换成“小狗子”\n",
    "if1 = (mt5[:,1]=='旺旺旺')|(mt5[:,1]=='毛毛毛')\n",
    "mt5[if1,1] = '小狗子';\n",
    "print(mt5)"
   ]
  },
  {
   "cell_type": "code",
   "execution_count": 71,
   "metadata": {},
   "outputs": [
    {
     "name": "stdout",
     "output_type": "stream",
     "text": [
      "<U2\n",
      "['1' '2' '18']\n",
      "float64\n",
      "[ 1.  2. 18.]\n"
     ]
    }
   ],
   "source": [
    "#类型转换 astype,dtype是返回它的类型\n",
    "vc6 = numpy.array(['1','2','18'])\n",
    "print(vc6.dtype)\n",
    "print(vc6)\n",
    "vc6 = vc6.astype(float);\n",
    "print(vc6.dtype)\n",
    "print(vc6)"
   ]
  },
  {
   "cell_type": "code",
   "execution_count": 72,
   "metadata": {},
   "outputs": [
    {
     "data": {
      "text/plain": [
       "1.0"
      ]
     },
     "execution_count": 72,
     "metadata": {},
     "output_type": "execute_result"
    }
   ],
   "source": [
    "vc6.min()#返回最小值"
   ]
  },
  {
   "cell_type": "code",
   "execution_count": 79,
   "metadata": {},
   "outputs": [
    {
     "name": "stdout",
     "output_type": "stream",
     "text": [
      "[  3  30 300]\n",
      "[111 111 111]\n"
     ]
    },
    {
     "data": {
      "text/plain": [
       "array([111, 111, 111])"
      ]
     },
     "execution_count": 79,
     "metadata": {},
     "output_type": "execute_result"
    }
   ],
   "source": [
    "mt6 = numpy.array([\n",
    "    [1,1,1],\n",
    "    [10,10,10],\n",
    "    [100,100,100]\n",
    "])\n",
    "print(mt6.sum(axis=1))#按行加\n",
    "print(mt6.sum(axis=0))#按列加\n",
    "mt6.sum(axis=0)"
   ]
  },
  {
   "cell_type": "code",
   "execution_count": 9,
   "metadata": {},
   "outputs": [
    {
     "name": "stdout",
     "output_type": "stream",
     "text": [
      "[  3  30 300]\n",
      "[100 200 300]\n"
     ]
    }
   ],
   "source": [
    "mt7 = numpy.array([\n",
    "     [1,2,3],\n",
    "    [10,20,30],\n",
    "    [100,200,300]\n",
    "])\n",
    "print(mt7.max(axis=1))#按行取最大值，返回新矩阵\n",
    "print(mt7.max(axis =0))#取列里最大的，返回新矩阵"
   ]
  },
  {
   "cell_type": "code",
   "execution_count": 8,
   "metadata": {},
   "outputs": [
    {
     "name": "stdout",
     "output_type": "stream",
     "text": [
      "[0 1 2 3 4 5 6 7]\n"
     ]
    },
    {
     "data": {
      "text/plain": [
       "array([[0, 1, 2, 3],\n",
       "       [4, 5, 6, 7]])"
      ]
     },
     "execution_count": 8,
     "metadata": {},
     "output_type": "execute_result"
    }
   ],
   "source": [
    "import numpy as np\n",
    "#以下numpy 代名 np\n",
    "#头部引用import numpy as np，即可用np代替numpy，用numpy也不影响\n",
    "print(np.arange(8))#生成一个0到8的一行vector向量数\n",
    "a = np.arange(8).reshape(2,4)#重组成2行4列的矩阵matrix\n",
    "a\n"
   ]
  },
  {
   "cell_type": "code",
   "execution_count": 95,
   "metadata": {},
   "outputs": [
    {
     "data": {
      "text/plain": [
       "(2, 4)"
      ]
     },
     "execution_count": 95,
     "metadata": {},
     "output_type": "execute_result"
    }
   ],
   "source": [
    "a.shape#可用于debug，每部行都打出来，找BUG问题"
   ]
  },
  {
   "cell_type": "code",
   "execution_count": 109,
   "metadata": {},
   "outputs": [
    {
     "data": {
      "text/plain": [
       "2"
      ]
     },
     "execution_count": 109,
     "metadata": {},
     "output_type": "execute_result"
    }
   ],
   "source": [
    "a.ndim#当前矩阵的纬度，只有行列，二维"
   ]
  },
  {
   "cell_type": "code",
   "execution_count": 113,
   "metadata": {},
   "outputs": [
    {
     "data": {
      "text/plain": [
       "'int32'"
      ]
     },
     "execution_count": 113,
     "metadata": {},
     "output_type": "execute_result"
    }
   ],
   "source": [
    "#a.dtype#返回dtype('int32')\n",
    "a.dtype.name#返回int32"
   ]
  },
  {
   "cell_type": "code",
   "execution_count": 116,
   "metadata": {},
   "outputs": [
    {
     "data": {
      "text/plain": [
       "8"
      ]
     },
     "execution_count": 116,
     "metadata": {},
     "output_type": "execute_result"
    }
   ],
   "source": [
    "a.size#a的元素总个数"
   ]
  },
  {
   "cell_type": "code",
   "execution_count": 104,
   "metadata": {},
   "outputs": [
    {
     "data": {
      "text/plain": [
       "array([0, 1, 2, 3, 4, 5, 6, 7])"
      ]
     },
     "execution_count": 104,
     "metadata": {},
     "output_type": "execute_result"
    }
   ],
   "source": [
    "b = np.arange(8).reshape(8)#重组成只有一行的一维的向量\n",
    "b"
   ]
  },
  {
   "cell_type": "code",
   "execution_count": 114,
   "metadata": {},
   "outputs": [
    {
     "data": {
      "text/plain": [
       "1"
      ]
     },
     "execution_count": 114,
     "metadata": {},
     "output_type": "execute_result"
    }
   ],
   "source": [
    "b.ndim#一维"
   ]
  },
  {
   "cell_type": "code",
   "execution_count": 6,
   "metadata": {},
   "outputs": [
    {
     "data": {
      "text/plain": [
       "array([[0., 0., 0.],\n",
       "       [0., 0., 0.]])"
      ]
     },
     "execution_count": 6,
     "metadata": {},
     "output_type": "execute_result"
    }
   ],
   "source": [
    "\n",
    "\n",
    "#==矩阵初始化==\n",
    "np.zeros((2,3))#生成2行3列的元素都为浮点0的matrix"
   ]
  },
  {
   "cell_type": "code",
   "execution_count": 11,
   "metadata": {},
   "outputs": [
    {
     "data": {
      "text/plain": [
       "array([[1, 1],\n",
       "       [1, 1]])"
      ]
     },
     "execution_count": 11,
     "metadata": {},
     "output_type": "execute_result"
    }
   ],
   "source": [
    "np.ones((2,2),dtype = np.int32)#初始化为都是1的，不用默认浮点数，用int"
   ]
  },
  {
   "cell_type": "code",
   "execution_count": 47,
   "metadata": {},
   "outputs": [
    {
     "name": "stdout",
     "output_type": "stream",
     "text": [
      "[1 3 5 7 9]\n"
     ]
    },
    {
     "data": {
      "text/plain": [
       "array([1. , 1.1, 1.2, 1.3, 1.4, 1.5, 1.6, 1.7, 1.8, 1.9, 2. , 2.1, 2.2,\n",
       "       2.3, 2.4, 2.5, 2.6, 2.7, 2.8, 2.9, 3. , 3.1, 3.2, 3.3, 3.4, 3.5,\n",
       "       3.6, 3.7, 3.8, 3.9, 4. , 4.1, 4.2, 4.3, 4.4, 4.5, 4.6, 4.7, 4.8,\n",
       "       4.9, 5. , 5.1, 5.2, 5.3, 5.4, 5.5, 5.6, 5.7, 5.8, 5.9, 6. , 6.1,\n",
       "       6.2])"
      ]
     },
     "execution_count": 47,
     "metadata": {},
     "output_type": "execute_result"
    }
   ],
   "source": [
    "from numpy import pi#引pi 3.1415926\n",
    "#arange初始化一组数\n",
    "print(np.arange(1,10,2))#参娄：起，终，步长，+2\n",
    "np.arange(1,2*pi,0.1)#起终值可以是计算的"
   ]
  },
  {
   "cell_type": "code",
   "execution_count": 14,
   "metadata": {},
   "outputs": [
    {
     "data": {
      "text/plain": [
       "array([0. , 0.2, 0.4, 0.6, 0.8, 1. , 1.2, 1.4, 1.6, 1.8])"
      ]
     },
     "execution_count": 14,
     "metadata": {},
     "output_type": "execute_result"
    }
   ],
   "source": [
    "np.arange(0,2,0.2)#arange初始化一组浮点数"
   ]
  },
  {
   "cell_type": "code",
   "execution_count": 16,
   "metadata": {},
   "outputs": [
    {
     "data": {
      "text/plain": [
       "array([[0, 1, 2],\n",
       "       [3, 4, 5]])"
      ]
     },
     "execution_count": 16,
     "metadata": {},
     "output_type": "execute_result"
    }
   ],
   "source": [
    "np.arange(6).reshape(2,3)#arange初始化0到6之前的整数，重组成2行3列"
   ]
  },
  {
   "cell_type": "code",
   "execution_count": 21,
   "metadata": {},
   "outputs": [
    {
     "data": {
      "text/plain": [
       "array([[0.0102628 , 0.30424206, 0.77995589],\n",
       "       [0.00412132, 0.6846139 , 0.38219892],\n",
       "       [0.02161787, 0.60524916, 0.64838402]])"
      ]
     },
     "execution_count": 21,
     "metadata": {},
     "output_type": "execute_result"
    }
   ],
   "source": [
    "np.random.random((3,3))#random模块下random函数，随机生成0到1之间的数，排成3行3列"
   ]
  },
  {
   "cell_type": "code",
   "execution_count": 62,
   "metadata": {
    "scrolled": true
   },
   "outputs": [
    {
     "name": "stdout",
     "output_type": "stream",
     "text": [
      "[[3.93403888 9.15478952]\n",
      " [7.59067502 6.34063507]\n",
      " [5.28118416 1.80213103]\n",
      " [0.05527028 7.45437411]\n",
      " [7.01297331 9.52627831]]\n",
      "[[3 9 7 6 5]\n",
      " [1 0 7 7 9]]\n"
     ]
    },
    {
     "data": {
      "text/plain": [
       "array([[ 0,  1,  2,  3,  4],\n",
       "       [ 5,  6,  7,  8, 10]])"
      ]
     },
     "execution_count": 62,
     "metadata": {},
     "output_type": "execute_result"
    }
   ],
   "source": [
    "mt8= np.random.random((5,2))*10 #生成0-10之间5行2列随机浮点数\n",
    "print(mt8)\n",
    "print(mt8.astype(int).reshape(2,5))#转成0到10之音随机整数2行5列\n",
    "\n",
    "(np.linspace(0,10,10)).astype(int).reshape(2,5)#效果同上，\n"
   ]
  },
  {
   "cell_type": "code",
   "execution_count": 56,
   "metadata": {},
   "outputs": [
    {
     "name": "stdout",
     "output_type": "stream",
     "text": [
      "[ 0.          3.4906585   6.98131701 10.47197551 13.96263402 17.45329252\n",
      " 20.94395102 24.43460953 27.92526803 31.41592654]\n"
     ]
    },
    {
     "data": {
      "text/plain": [
       "array([ 1.,  2.,  3.,  4.,  5.,  6.,  7.,  8.,  9., 10.])"
      ]
     },
     "execution_count": 56,
     "metadata": {},
     "output_type": "execute_result"
    }
   ],
   "source": [
    "#.linspace(起值到终值之间，生成多少个随机数)并可计算 VS arange类似，生成起，始，步长变化，起终值可以计算。\n",
    "print(np.linspace(0, 10*pi,10))#起值，终值，生成多少个随机数\n",
    "np.linspace(1,10,10)#生成1到10之间的随机数10个"
   ]
  },
  {
   "cell_type": "code",
   "execution_count": 96,
   "metadata": {},
   "outputs": [
    {
     "name": "stdout",
     "output_type": "stream",
     "text": [
      "-0.3048106211022167\n",
      "-0.4480736161291701\n",
      "-1.995200412208242\n",
      "1.5596856728972892\n"
     ]
    }
   ],
   "source": [
    "#其它数学运算公式也支持\n",
    "print(np.sin(60))\n",
    "print(np.cos(90))\n",
    "print(np.tan(90))\n",
    "print(np.arctan(90))"
   ]
  },
  {
   "cell_type": "code",
   "execution_count": 110,
   "metadata": {},
   "outputs": [
    {
     "name": "stdout",
     "output_type": "stream",
     "text": [
      "[10 20 30]\n",
      "[1 2 3]\n",
      "[10 40 90]\n",
      "[ 9 39 89]\n",
      "[ 1  8 27]\n",
      "[ True False False]\n"
     ]
    }
   ],
   "source": [
    "#===相量vector，一维矩阵运算===\n",
    "#先造两个一维矩阵，打印出来\n",
    "a = np.array([10,20,30])\n",
    "b = np.arange(1,4)\n",
    "print(a)\n",
    "print(b)\n",
    "#开始矩阵运算\n",
    "c = a*b#【会是两个一维矩阵一一对应计算。注：个数结构必须相同】\n",
    "print(c)\n",
    "c = c -1#每位-1\n",
    "print(c)\n",
    "b = b**3#每位的3次幂，3个自己相乘\n",
    "print(b)\n",
    "print(a<20)#判断反回布尔值"
   ]
  },
  {
   "cell_type": "code",
   "execution_count": 128,
   "metadata": {},
   "outputs": [
    {
     "name": "stdout",
     "output_type": "stream",
     "text": [
      "[[ 2  3]\n",
      " [20 30]]\n",
      "[[   1   10]\n",
      " [ 100 1000]]\n",
      "----求内积mtA*mtB----\n",
      "[[    2    30]\n",
      " [ 2000 30000]]\n",
      "----mtA+mtB----\n",
      "[[   3   13]\n",
      " [ 120 1030]]\n"
     ]
    }
   ],
   "source": [
    "#矩阵运算 matrix\n",
    "#先造两个矩阵，打印出来\n",
    "mtA = np.array([\n",
    "    [2,3],\n",
    "    [20,30]\n",
    "])\n",
    "mtB = np.array([\n",
    "    [1,10],\n",
    "    [100,1000]\n",
    "])\n",
    "print(mtA)\n",
    "print(mtB)\n",
    "print(\"----求内积mtA*mtB----\")\n",
    "print(mtA*mtB)#个个位置分别对应相乘\n",
    "print(\"----mtA+mtB----\")\n",
    "print(mtA+mtB)#第个位置对应相加\n"
   ]
  },
  {
   "cell_type": "code",
   "execution_count": 129,
   "metadata": {},
   "outputs": [
    {
     "name": "stdout",
     "output_type": "stream",
     "text": [
      "[[ 1  2]\n",
      " [10 20]]\n",
      "[[ 100  200]\n",
      " [1000 2000]]\n",
      "---------\n",
      "---矩阵乘 dot：按照矩阵乘法的规则来运算 mtC.dot(mtD)------\n",
      "[[ 2100  4200]\n",
      " [21000 42000]]\n"
     ]
    }
   ],
   "source": [
    "#---矩阵乘 dot：按照矩阵乘法的规则来运算\n",
    "#为了例于理解找规律，重新造两组好辨认值的matrix，打印出来\n",
    "mtC = np.array([\n",
    "    [1,2],\n",
    "    [10,20]\n",
    "])\n",
    "mtD = np.array([\n",
    "    [100,200],\n",
    "    [1000,2000]\n",
    "])\n",
    "print(mtC)\n",
    "print(mtD)\n",
    "print(\"---------\")\n",
    "print(\"---矩阵乘 dot：按照矩阵乘法的规则来运算 mtC.dot(mtD)或np.dot(mtC,mtD),一样的 ------\")\n",
    "print(mtC.dot(mtD))\n",
    "#2100 = 1*100+2*1000，C一行与D一列运算，运算方式：对应位相乘，和相加，\n",
    "#4200 = 1*200+2*2000，C一行与D二列运算，运算方式：同上，\n",
    "#（C一行运算完了，抛开不看）\n",
    "#21000 = 10*100+20*1000, C二行与D一列运算，运算方式：同上，\n",
    "#42000 = 10*200+20*2000，C二行与D二列运算，运算方式：同上，\n",
    "#===【总结，行列按位对乘再加（行*列+行*列，本来从上面很多例可看出numpy运算特点可总结：行*列就是对应位相乘），以一个为基准遍历下去。】===\n",
    "#==【所以上面C的行列数要和D的行列数能匹配上，一个是2行3列，另一个是3行两列，即翻转90度，刚好一到致】=="
   ]
  },
  {
   "cell_type": "code",
   "execution_count": 131,
   "metadata": {},
   "outputs": [
    {
     "name": "stdout",
     "output_type": "stream",
     "text": [
      "[[ 32100  64200]\n",
      " [321000 642000]]\n"
     ]
    }
   ],
   "source": [
    "#==感受下==\n",
    "mtE = np.array([\n",
    "    [1,2,3],\n",
    "    [10,20,30]\n",
    "])\n",
    "mtF = np.array([\n",
    "    [100,200],\n",
    "    [1000,2000],\n",
    "    [10000,20000]\n",
    "])\n",
    "print(np.dot(mtE,mtF))#感受下"
   ]
  },
  {
   "cell_type": "code",
   "execution_count": 136,
   "metadata": {},
   "outputs": [
    {
     "name": "stdout",
     "output_type": "stream",
     "text": [
      "[0 1 2 3 4 5 6 7 8 9]\n",
      "[1.00000000e+00 2.71828183e+00 7.38905610e+00 2.00855369e+01\n",
      " 5.45981500e+01 1.48413159e+02 4.03428793e+02 1.09663316e+03\n",
      " 2.98095799e+03 8.10308393e+03]\n",
      "[0.         1.         1.41421356 1.73205081 2.         2.23606798\n",
      " 2.44948974 2.64575131 2.82842712 3.        ]\n"
     ]
    }
   ],
   "source": [
    "#==第三章 5 Numpy 常用函数==\n",
    "\n",
    "#exp(x)指数函数，e的x次方，\n",
    "vc1 = np.arange(10);\n",
    "print(vc1)\n",
    "print(np.exp(vc1))#e的0，1，2，3，4，次方（...个自己相乘）\n",
    "print(np.sqrt(vc1))#开方，开0,1,2,3...9次开方（...个自己 相乘）\n",
    "#关于e\n",
    "#e=2.71828……是“自然律”的一种量的表达。“自然律”的形象表达是螺线。螺线的数学表达式通常有下面五种：（1）对数螺线；（2）阿基米德螺线；（3）连锁螺线；（4）双曲螺线；（5）回旋螺线。\n",
    "#e=(1+1/x)^x 其中，x是无穷大\n",
    "#用文字描述就是：1与无穷小的和的无穷大次方的值\n",
    "#e是“自然律”的精髓，在数学上它是函数：\n",
    "#1（1+——）\n",
    "#X的X次方，当X趋近无穷时的极限。\n",
    "#人们在研究一些实际问题，如物体的冷却、细胞的繁殖、放射性元素的衰变时，都要研究\n",
    "#1（1+——）\n",
    "#X的X次方，当X趋近无穷时的极限。正是这种从无限变化中获得的有限，从两个相反方向发展（当X趋向正无穷大的时，上式的极限等于e=2.71828……，当X趋向负无穷大时候，上式的结果也等于e=2.71828……）得来的共同形式，充分体现了宇宙的形成、发展及衰亡的最本质的东西。\n",
    "#【记起来一些，e的x次幂，x负无穷大时 结果趋向于0，x正无穷时，结果趋向正无穷大】"
   ]
  },
  {
   "cell_type": "code",
   "execution_count": 148,
   "metadata": {
    "scrolled": true
   },
   "outputs": [
    {
     "name": "stdout",
     "output_type": "stream",
     "text": [
      "[[5.50760558 7.88553393 2.49798839 9.14033422]\n",
      " [1.17994646 9.33903041 6.83148257 4.30189261]\n",
      " [8.89782012 1.80669996 8.37382719 7.88544455]]\n",
      "[[5. 7. 2. 9.]\n",
      " [1. 9. 6. 4.]\n",
      " [8. 1. 8. 7.]]\n",
      "[[5 7 2 9]\n",
      " [1 9 6 4]\n",
      " [8 1 8 7]]\n"
     ]
    }
   ],
   "source": [
    "#===类型转换====\n",
    "a = 10*np.random.random((3,4))#两个括号注意，\n",
    "print(a)\n",
    "print(np.floor(a))#取整，还是浮点型\n",
    "print(np.int32(a))#取整，整形。【注意：上面有一例用了a.astype('int')，这里是np.int32(a)】"
   ]
  },
  {
   "cell_type": "code",
   "execution_count": 167,
   "metadata": {},
   "outputs": [
    {
     "name": "stdout",
     "output_type": "stream",
     "text": [
      "[[ 0  1  2  3  4  5]\n",
      " [ 6  7  8  9 10 11]]\n",
      "[ 0  1  2  3  4  5  6  7  8  9 10 11]\n"
     ]
    }
   ],
   "source": [
    "b = np.arange(12).reshape(2,6)\n",
    "print(b)\n",
    "print(b.ravel())#多行抻成一行"
   ]
  },
  {
   "cell_type": "code",
   "execution_count": 168,
   "metadata": {
    "scrolled": true
   },
   "outputs": [
    {
     "name": "stdout",
     "output_type": "stream",
     "text": [
      "[[ 0  1  2  3]\n",
      " [ 4  5  6  7]\n",
      " [ 8  9 10 11]]\n"
     ]
    }
   ],
   "source": [
    "b.shape = (3,4)#重组行列，可以用.shape = (行，列)\n",
    "print(b)"
   ]
  },
  {
   "cell_type": "code",
   "execution_count": 169,
   "metadata": {
    "scrolled": true
   },
   "outputs": [
    {
     "name": "stdout",
     "output_type": "stream",
     "text": [
      "[[ 0  4  8]\n",
      " [ 1  5  9]\n",
      " [ 2  6 10]\n",
      " [ 3  7 11]]\n"
     ]
    }
   ],
   "source": [
    "print(b.T)#转置，行列颠倒,值也跟着过去，注意\n"
   ]
  },
  {
   "cell_type": "code",
   "execution_count": 188,
   "metadata": {},
   "outputs": [
    {
     "name": "stdout",
     "output_type": "stream",
     "text": [
      "==a,b print==\n",
      "[[8 4 7]\n",
      " [7 7 4]]\n",
      "[[5 8 2]\n",
      " [4 3 8]\n",
      " [5 6 5]\n",
      " [4 1 3]]\n",
      "===np.vstack 竖着拼接，列数要一致===\n",
      "[[8 4 7]\n",
      " [7 7 4]\n",
      " [5 8 2]\n",
      " [4 3 8]\n",
      " [5 6 5]\n",
      " [4 1 3]]\n",
      "==c,d print==\n",
      "[[4 8 6 1 9 4]\n",
      " [1 6 2 5 5 7]]\n",
      "[[1 5 5]\n",
      " [9 1 6]]\n",
      "===np.hstack 横着拼接，行数要一致===\n",
      "[[4 8 6 1 9 4 1 5 5]\n",
      " [1 6 2 5 5 7 9 1 6]]\n"
     ]
    }
   ],
   "source": [
    "#===拼数据，拼特征【注意下面的变量名和上面的如果重了，会改变上面的，】===\n",
    "a_1 = np.int32(10*np.random.random(6).reshape(2,3));\n",
    "b_1 = np.int32(10*np.random.random(12).reshape(4,3));\n",
    "print(\"==a,b print==\")\n",
    "print(a_1)\n",
    "print(b_1)\n",
    "print(\"===np.vstack 竖着拼接，列数要一致===\")\n",
    "print(np.vstack((a_1,b_1)))#np.vstack((行，列))拼接，竖着拼两个列数要一致，\n",
    "print(\"==c,d print==\")\n",
    "c_1 = np.int32(10*np.random.random(12).reshape(2,6));\n",
    "d_1 = np.int32(10*np.random.random(6).reshape(2,3));\n",
    "print(c_1)\n",
    "print(d_1)\n",
    "print(\"===np.hstack 横着拼接，行数要一致===\")\n",
    "print(np.hstack((c_1,d_1)))#np.hstack((行，列))横着拼，注意，行数要一致。\n"
   ]
  },
  {
   "cell_type": "code",
   "execution_count": 209,
   "metadata": {},
   "outputs": [
    {
     "name": "stdout",
     "output_type": "stream",
     "text": [
      "[[ 0  1  2  3  4  5  6  7  8  9 10 11]\n",
      " [12 13 14 15 16 17 18 19 20 21 22 23]]\n",
      "===把上面矩阵横向等分成三份===\n",
      "[array([[ 0,  1,  2,  3],\n",
      "       [12, 13, 14, 15]]), array([[ 4,  5,  6,  7],\n",
      "       [16, 17, 18, 19]]), array([[ 8,  9, 10, 11],\n",
      "       [20, 21, 22, 23]])]\n",
      "===把上面矩阵横向以某点为界分三份==\n",
      "[array([[ 0,  1,  2],\n",
      "       [12, 13, 14]]), array([[ 3,  4],\n",
      "       [15, 16]]), array([[ 5,  6,  7,  8,  9, 10, 11],\n",
      "       [17, 18, 19, 20, 21, 22, 23]])]\n",
      "[[ 0 12]\n",
      " [ 1 13]\n",
      " [ 2 14]\n",
      " [ 3 15]\n",
      " [ 4 16]\n",
      " [ 5 17]\n",
      " [ 6 18]\n",
      " [ 7 19]\n",
      " [ 8 20]\n",
      " [ 9 21]\n",
      " [10 22]\n",
      " [11 23]]\n",
      "===把上面矩阵纵向等分成三份===\n",
      "[array([[ 0, 12],\n",
      "       [ 1, 13],\n",
      "       [ 2, 14],\n",
      "       [ 3, 15]]), array([[ 4, 16],\n",
      "       [ 5, 17],\n",
      "       [ 6, 18],\n",
      "       [ 7, 19]]), array([[ 8, 20],\n",
      "       [ 9, 21],\n",
      "       [10, 22],\n",
      "       [11, 23]])]\n"
     ]
    }
   ],
   "source": [
    "#====切割===\n",
    "#mt_sp = np.floor(10*np.random.random((2,12)))#注意，是floor，不是float\n",
    "mt_sp = np.arange(24).reshape(2,12)#为方便看，用规律变化的\n",
    "print(mt_sp)\n",
    "print(\"===把上面矩阵横向等分成三份===\")\n",
    "print(np.hsplit(mt_sp,3))#hsplit 横向分，horizontal,vsplit 纵向分开 vertical\n",
    "print(\"===把上面矩阵横向以某点为界分三份==\")\n",
    "print(np.hsplit(mt_sp,(3,5)))#以索引3-5为界分三份，不包括5号\n",
    "mt_sp2 = np.copy(mt_sp).T;#【复制mt_sp给mt_sp2，再转置。】\n",
    "print(mt_sp2)\n",
    "print(\"===把上面矩阵纵向等分成三份===\")\n",
    "print(np.vsplit(mt_sp2,3))"
   ]
  },
  {
   "cell_type": "code",
   "execution_count": 216,
   "metadata": {},
   "outputs": [
    {
     "name": "stdout",
     "output_type": "stream",
     "text": [
      "[0 1 2 3 4 5]\n",
      "[0 1 2 3 4 5]\n",
      "[[0 1 2]\n",
      " [3 4 5]]\n",
      "[[0 1 2]\n",
      " [3 4 5]]\n",
      "(2, 3)\n",
      "818148759872\n",
      "818148759872\n"
     ]
    }
   ],
   "source": [
    "#===复制【python里面变量相等，改后面变量时，前面变量也会变，要想改新的，旧的不变，需要复制，切记】===\n",
    "vc_cp = np.arange(6)\n",
    "print(vc_cp)\n",
    "vc_cp2 = vc_cp\n",
    "print(vc_cp)\n",
    "vc_cp2.shape = 2,3#重组成2行3列\n",
    "print(vc_cp2)\n",
    "print(vc_cp)#上面改了2，1也被改了\n",
    "print(vc_cp.shape)\n",
    "print(id(vc_cp))\n",
    "print(id(vc_cp2))#第个变量都有一个id，1和2完全相等了。好比一个快捷方式的链接引用，改一个另一个也跟着改了。"
   ]
  },
  {
   "cell_type": "code",
   "execution_count": 223,
   "metadata": {},
   "outputs": [
    {
     "name": "stdout",
     "output_type": "stream",
     "text": [
      "False\n",
      "[[ 0 10  2  3  4  5]]\n",
      "[[ 0 10  2]\n",
      " [ 3  4  5]]\n",
      "[[ 0 10  2  3  4  5]]\n",
      "[[ 0 10  2]\n",
      " [ 3  4  5]]\n",
      "818148759872\n",
      "818148935600\n"
     ]
    }
   ],
   "source": [
    "#===浅层复制view===\n",
    "vc_cp3 = vc_cp.view()\n",
    "print(vc_cp3 is vc_cp)\n",
    "vc_cp3.shape = 1,6\n",
    "print(vc_cp3)\n",
    "print(vc_cp)#上面改了行列结构，原矩阵没受影响\n",
    "vc_cp3[0,1] = 10\n",
    "print(vc_cp3)\n",
    "print(vc_cp)#【但上面改了一个值，原矩阵也一起变了，所以view只可以保障视图结构不变，值还是会牵连变，所以不建议用】\n",
    "print(id(vc_cp))\n",
    "print(id(vc_cp3))#id也是不一样了"
   ]
  },
  {
   "cell_type": "code",
   "execution_count": 227,
   "metadata": {},
   "outputs": [
    {
     "name": "stdout",
     "output_type": "stream",
     "text": [
      "[[ 0 10  2]\n",
      " [ 3  4  5]]\n",
      "[[ 0 10  2]\n",
      " [ 3  4  5]]\n",
      "=======\n",
      "[[ 0 10  2  3  4  5]]\n",
      "[[ 0 10  2]\n",
      " [ 3  4  5]]\n",
      "======\n",
      "[[ 0 10 20  3  4  5]]\n",
      "[[ 0 10  2]\n",
      " [ 3  4  5]]\n",
      "818148936480\n",
      "818148759872\n"
     ]
    }
   ],
   "source": [
    "#==要想完全复制一个全新的，不连带改的，可以用深度复制copy==\n",
    "vc_cp4 = vc_cp.copy()\n",
    "print(vc_cp)\n",
    "print(vc_cp4)\n",
    "vc_cp4.shape = 1,6\n",
    "print(\"=======\")\n",
    "print(vc_cp4)\n",
    "print(vc_cp)#新行列结构没影响到旧的\n",
    "vc_cp4[0,2]=20\n",
    "print(\"======\")\n",
    "print(vc_cp4)\n",
    "print(vc_cp)#新值没影响到旧值\n",
    "print(id(vc_cp4))\n",
    "print(id(vc_cp))#id不同"
   ]
  },
  {
   "cell_type": "code",
   "execution_count": 245,
   "metadata": {
    "scrolled": true
   },
   "outputs": [
    {
     "name": "stdout",
     "output_type": "stream",
     "text": [
      "[[6. 9. 0. 9.]\n",
      " [1. 7. 3. 6.]\n",
      " [8. 0. 1. 7.]]\n",
      "[2 0 1 0]\n",
      "[8. 9. 3. 9.]\n"
     ]
    }
   ],
   "source": [
    "#=====找最大值的索引号===\n",
    "#mt_mx = np.sin(np.arange(12)).reshape(3,4)\n",
    "#mt_mx = np.linspace(1,12,12).reshape(3,4)#1到12，生成12个随机数,注意这个还是按顺序，不是随机的。\n",
    "mt_mx = np.floor(10*np.random.random(12).reshape(3,4))\n",
    "print(mt_mx)\n",
    "ind = mt_mx.argmax(axis = 0);\n",
    "print(ind)#返回最大值的索引号，组成新矩阵。 axis = 0列中，1行中\n",
    "#把上面索引位的值取出来\n",
    "print(mt_mx[ind,range(mt_mx.shape[1])])#【ind值的矩阵个数为老矩阵的列数.shape返回(行，列)，.shape[1]取出列数】\n",
    "#【argmax最大数索引所在值取出。】"
   ]
  },
  {
   "cell_type": "code",
   "execution_count": 253,
   "metadata": {
    "scrolled": true
   },
   "outputs": [
    {
     "name": "stdout",
     "output_type": "stream",
     "text": [
      "[ 1 20  6  8]\n",
      "[[ 1 20  6  8  1 20  6  8]\n",
      " [ 1 20  6  8  1 20  6  8]\n",
      " [ 1 20  6  8  1 20  6  8]\n",
      " [ 1 20  6  8  1 20  6  8]\n",
      " [ 1 20  6  8  1 20  6  8]]\n"
     ]
    }
   ],
   "source": [
    "#==复制 tile瓦片==\n",
    "vc_tl = np.array([1,20,6,8])\n",
    "print(vc_tl)\n",
    "print(np.tile(vc_tl,(5,2)))#tile复制一样的，复制成几行几列"
   ]
  },
  {
   "cell_type": "code",
   "execution_count": 261,
   "metadata": {
    "scrolled": true
   },
   "outputs": [
    {
     "name": "stdout",
     "output_type": "stream",
     "text": [
      "===sort===\n",
      "[[ 1 20  6]\n",
      " [ 8 10  6]]\n",
      "[[ 1  6 20]\n",
      " [ 6  8 10]]\n",
      "====argsort====\n",
      "[[ 1 15 61]\n",
      " [ 8 10  6]]\n",
      "[[0 1 1]\n",
      " [1 0 0]]\n"
     ]
    }
   ],
   "source": [
    "#==排序==\n",
    "vc_st = np.array([1,20,6,8,10,6]).reshape(2,3)\n",
    "print(\"===sort===\")\n",
    "print(vc_st)\n",
    "vc_st_n = np.sort(vc_st,axis=1)#按行排序，每一行单独排，打乱\n",
    "print(vc_st_n)\n",
    "vc_st2 = np.array([1,15,61,8,10,6]).reshape(2,3)\n",
    "print(\"====argsort====\")\n",
    "print(vc_st2);\n",
    "vc_st_n2 = np.argsort(vc_st2,axis=0)#排序后生成索引矩阵。axis=0按列排序\n",
    "print(vc_st_n2);"
   ]
  },
  {
   "cell_type": "code",
   "execution_count": null,
   "metadata": {},
   "outputs": [],
   "source": []
  }
 ],
 "metadata": {
  "kernelspec": {
   "display_name": "Python 3",
   "language": "python",
   "name": "python3"
  },
  "language_info": {
   "codemirror_mode": {
    "name": "ipython",
    "version": 3
   },
   "file_extension": ".py",
   "mimetype": "text/x-python",
   "name": "python",
   "nbconvert_exporter": "python",
   "pygments_lexer": "ipython3",
   "version": "3.7.0"
  }
 },
 "nbformat": 4,
 "nbformat_minor": 2
}
