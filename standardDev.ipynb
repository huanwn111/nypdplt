{
 "cells": [
  {
   "cell_type": "markdown",
   "metadata": {},
   "source": [
    "==人大统计公式整理：==\n",
    "任务1：\n",
    "ex1: 编写一个函数，要求实现如下功能：\n",
    "（1）给一组数据（1维向量），统计出一共有多少个观测值。\n",
    "（2）求出最大值、最小值、中位数、平均值、标准差\n",
    "（3）生成一个直方图"
   ]
  },
  {
   "cell_type": "code",
   "execution_count": 86,
   "metadata": {},
   "outputs": [
    {
     "name": "stdout",
     "output_type": "stream",
     "text": [
      "打印向量vector1: [ 1.3315865   0.71527897 -1.54540029 -0.00838385  0.62133597 -0.72008556\n",
      "  0.26551159  0.10854853  0.00429143 -0.17460021]\n",
      "观测值(向量元素)个数: 10\n",
      "本组观测值最大值： 1.331586504129518\n",
      "最小值： -1.5454002921112682\n",
      "中位数： 0.05641997832450134\n",
      "平均值： 0.05980830814078976\n",
      "总体标准差： 0.7519756036909286\n",
      "样本标准差： 0.7926518841811514\n",
      "numpy库std公式算标准差： 0.7519756036909285\n"
     ]
    },
    {
     "data": {
      "image/png": "[encoded data removed]",
      "text/plain": [
       "<Figure size 432x288 with 1 Axes>"
      ]
     },
     "metadata": {
      "needs_background": "light"
     },
     "output_type": "display_data"
    }
   ],
   "source": [
    "import numpy as np\n",
    "from matplotlib import pyplot as plt\n",
    "\n",
    "def ex1():\n",
    "    #vector1 = [10,5,3,7,8,9,5,20]#\n",
    "    np.random.seed(10)#指定随机种子，保证每次刷新以后随机数不变动，即，对同一批数据实例观测计算\n",
    "    vector1 = np.random.normal(loc=0,scale=1.0,size=10)\n",
    "    #生成正态分布向量，loc =0 以0为中间 scale标准差为1，size生成数字元素个数 None为1个\n",
    "    print(\"打印向量vector1:\",vector1)\n",
    "    \n",
    "    #==向量个数==\n",
    "    sizeVector1 = len(vector1)\n",
    "    print(\"观测值(向量元素)个数:\",sizeVector1)\n",
    "    \n",
    "    #==最大值,最小值==\n",
    "    maxItem = max(vector1)\n",
    "    minItem = min(vector1)\n",
    "    print(\"本组观测值最大值：\",maxItem)\n",
    "    print(\"最小值：\",minItem)\n",
    "    \n",
    "    #==中位数==\n",
    "    midItem = np.median(vector1)\n",
    "    print(\"中位数：\",midItem)\n",
    "    \n",
    "    #==平均值==\n",
    "    meanVec1 = np.mean(vector1)\n",
    "    print(\"平均值：\",meanVec1)\n",
    "    \n",
    "    #==标准差==  \n",
    "    #标准差公式：见图\n",
    "    #==数学公式算标准差==\n",
    "    #算分子\n",
    "    sUp = 0\n",
    "    for iX in vector1:#遍历每个数算与均值之差的平均累加和\n",
    "        #print(\"每个数：\",iX)\n",
    "        sUp += (iX-meanVec1)*(iX-meanVec1)#注意np计算乘法不能省掉*\n",
    "    #算标准差（分子/数字个数 开方）\n",
    "    stdDev = np.sqrt(sUp/sizeVector1)\n",
    "    print(\"总体标准差：\",stdDev)\n",
    "    #样本标准差 /N-1\n",
    "    stdDev_s = np.sqrt(sUp/(sizeVector1-1))\n",
    "    print(\"样本标准差：\",stdDev_s)\n",
    "    \n",
    "    #numpy 函数算标准差\n",
    "    stdDev2 = np.std(vector1)\n",
    "    print(\"numpy库std公式算标准差：\",stdDev2)\n",
    "    \n",
    "    \n",
    "    #==画直方图，用matplotlib 库的 pyplot模块 hist方法==\n",
    "    plt.hist(vector1,bins=5,edgecolor='black')\n",
    "    #bins指定柱子的个数 edgecolor 边线颜色\n",
    "    plt.title('vector1 histogram')\n",
    "    plt.show()\n",
    "        \n",
    "ex1()\n",
    "    "
   ]
  },
  {
   "cell_type": "code",
   "execution_count": null,
   "metadata": {},
   "outputs": [],
   "source": [
    "#读取手写版数学公式,以下图太小，改用markDown链接\n",
    "\n",
    "import matplotlib.image as mpimg\n",
    "#读图片库\n",
    "img1 = mpimg.imread(r'img/task1.jpg')\n",
    "img2 = mpimg.imread(r'img/task1_2.jpg')\n",
    "\n",
    "plt.imshow(img1)\n",
    "plt.show()\n",
    "plt.imshow(img2)\n",
    "plt.show()\n"
   ]
  },
  {
   "cell_type": "markdown",
   "metadata": {},
   "source": [
    "![jupyter](https://raw.githubusercontent.com/huanwn111/nypdplt/master/task1.jpg)\n",
    "![jupyter](https://raw.githubusercontent.com/huanwn111/nypdplt/master/task1_2.jpg)"
   ]
  },
  {
   "cell_type": "code",
   "execution_count": null,
   "metadata": {},
   "outputs": [],
   "source": [
    "'''\n",
    "总结：\n",
    "\n",
    "标准差又称均方差,\n",
    "反映的是数据集的离散程度(是离均差平方的算术平方根)，样本的差异，\n",
    "比如：{0,5,9,14}和{5,6,8,9} 平均值都是7，第二个集合具有较小的标准差。\n",
    "标准差越小样本差异越小，越均衡，越集中。\n",
    "\n",
    "'''\n"
   ]
  },
  {
   "cell_type": "code",
   "execution_count": null,
   "metadata": {},
   "outputs": [],
   "source": []
  },
  {
   "cell_type": "code",
   "execution_count": null,
   "metadata": {},
   "outputs": [],
   "source": []
  }
 ],
 "metadata": {
  "kernelspec": {
   "display_name": "Python 3",
   "language": "python",
   "name": "python3"
  },
  "language_info": {
   "codemirror_mode": {
    "name": "ipython",
    "version": 3
   },
   "file_extension": ".py",
   "mimetype": "text/x-python",
   "name": "python",
   "nbconvert_exporter": "python",
   "pygments_lexer": "ipython3",
   "version": "3.6.8"
  }
 },
 "nbformat": 4,
 "nbformat_minor": 2
}
