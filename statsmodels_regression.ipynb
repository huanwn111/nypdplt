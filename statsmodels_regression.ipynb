{
 "cells": [
  {
   "cell_type": "code",
   "execution_count": 1,
   "metadata": {},
   "outputs": [],
   "source": [
    "#回归python库实践 statsmodels\n",
    "\n",
    "import numpy as np\n",
    "import matplotlib.pyplot as plt\n",
    "import statsmodels.api as sm\n"
   ]
  },
  {
   "cell_type": "code",
   "execution_count": 12,
   "metadata": {},
   "outputs": [
    {
     "data": {
      "text/plain": [
       "array([ 0.        ,  0.52631579,  1.05263158,  1.57894737,  2.10526316,\n",
       "        2.63157895,  3.15789474,  3.68421053,  4.21052632,  4.73684211,\n",
       "        5.26315789,  5.78947368,  6.31578947,  6.84210526,  7.36842105,\n",
       "        7.89473684,  8.42105263,  8.94736842,  9.47368421, 10.        ])"
      ]
     },
     "execution_count": 12,
     "metadata": {},
     "output_type": "execute_result"
    }
   ],
   "source": [
    "#==生成自变量样本x==\n",
    "n = 20\n",
    "x = np.linspace(0,10,n)#返回0到10之间的20个均匀间隔的数字\n",
    "x"
   ]
  },
  {
   "cell_type": "code",
   "execution_count": 13,
   "metadata": {},
   "outputs": [
    {
     "data": {
      "text/plain": [
       "array([[ 1.        ,  0.        ],\n",
       "       [ 1.        ,  0.52631579],\n",
       "       [ 1.        ,  1.05263158],\n",
       "       [ 1.        ,  1.57894737],\n",
       "       [ 1.        ,  2.10526316],\n",
       "       [ 1.        ,  2.63157895],\n",
       "       [ 1.        ,  3.15789474],\n",
       "       [ 1.        ,  3.68421053],\n",
       "       [ 1.        ,  4.21052632],\n",
       "       [ 1.        ,  4.73684211],\n",
       "       [ 1.        ,  5.26315789],\n",
       "       [ 1.        ,  5.78947368],\n",
       "       [ 1.        ,  6.31578947],\n",
       "       [ 1.        ,  6.84210526],\n",
       "       [ 1.        ,  7.36842105],\n",
       "       [ 1.        ,  7.89473684],\n",
       "       [ 1.        ,  8.42105263],\n",
       "       [ 1.        ,  8.94736842],\n",
       "       [ 1.        ,  9.47368421],\n",
       "       [ 1.        , 10.        ]])"
      ]
     },
     "execution_count": 13,
     "metadata": {},
     "output_type": "execute_result"
    }
   ],
   "source": [
    "#一元线性回归方程 y = β0 + β1x + e (β为参数，e为误差项）\n",
    "\n",
    "#β0x项 x为固定1，便于公式合并\n",
    "#构造X项，给上面x数组补一维（补一列）常数项1的\n",
    "X = sm.add_constant(x)\n",
    "X\n"
   ]
  },
  {
   "cell_type": "code",
   "execution_count": 14,
   "metadata": {},
   "outputs": [
    {
     "data": {
      "text/plain": [
       "array([2, 5])"
      ]
     },
     "execution_count": 14,
     "metadata": {},
     "output_type": "execute_result"
    }
   ],
   "source": [
    "#==指定参数值β0 β1 ==\n",
    "#设为固定的2,5，来算一组真实值y，来构造一组原始数据，用于训练回归\n",
    "beta = np.array([2,5])\n",
    "beta"
   ]
  },
  {
   "cell_type": "code",
   "execution_count": 15,
   "metadata": {},
   "outputs": [
    {
     "data": {
      "text/plain": [
       "array([ 1.51815685, -0.72941161,  1.25028375, -0.80184078, -0.62902683,\n",
       "       -0.83760688, -0.07118702,  1.03692492,  1.48069091, -2.34547212,\n",
       "       -0.66611284, -0.99179133,  1.2707308 , -1.04547287, -0.08127298,\n",
       "       -0.4714963 ,  0.50994516, -0.13003042,  1.2804906 ,  1.65289572])"
      ]
     },
     "execution_count": 15,
     "metadata": {},
     "output_type": "execute_result"
    }
   ],
   "source": [
    "#==设置误差项==\n",
    "e = np.random.normal(size = n)\n",
    "#生成和x样本数相同数量的随机正常(正态)分布数组\n",
    "e"
   ]
  },
  {
   "cell_type": "code",
   "execution_count": 17,
   "metadata": {},
   "outputs": [
    {
     "data": {
      "text/plain": [
       "array([ 3.51815685,  3.90216733,  8.51344164,  9.09289606, 11.89728896,\n",
       "       14.32028786, 17.71828667, 21.45797755, 24.53332249, 23.33873841,\n",
       "       27.64967664, 29.95557709, 34.84967817, 35.16505345, 38.76083229,\n",
       "       41.00218791, 44.61520832, 46.60681168, 50.64891165, 53.65289572])"
      ]
     },
     "execution_count": 17,
     "metadata": {},
     "output_type": "execute_result"
    }
   ],
   "source": [
    "#==求y实例值：把上面各项假定值代入公式==\n",
    "y = np.dot(X,beta) +e\n",
    "y"
   ]
  },
  {
   "cell_type": "code",
   "execution_count": 24,
   "metadata": {},
   "outputs": [
    {
     "name": "stdout",
     "output_type": "stream",
     "text": [
      "参数，回关系数β0 β1: [1.84405796 5.04318238]\n",
      "y估计值预测值： [ 1.84405796  4.49836447  7.15267099  9.8069775  12.46128401 15.11559053\n",
      " 17.76989704 20.42420355 23.07851007 25.73281658 28.38712309 31.04142961\n",
      " 33.69573612 36.35004263 39.00434915 41.65865566 44.31296217 46.96726869\n",
      " 49.6215752  52.27588171]\n"
     ]
    }
   ],
   "source": [
    "#用上面的真实值y和X值(已知的线性关系，上面线性关系方程算出来的)做数据来训练模型\n",
    "#==最小二乘法建模sm.OLS回归==\n",
    "#让真实观测值与预测值之差最小，最好是都在回归线上，回归线上的是预测值。\n",
    "model = sm.OLS(y,X)#实例化\n",
    "#开始训练拟和数据\n",
    "res = model.fit()\n",
    "#打印回归系数β0 β1\n",
    "print(\"参数，回关系数β0 β1:\",res.params)\n",
    "#打印估计值（预测值）\n",
    "y_ = res.fittedvalues\n",
    "print(\"y估计值预测值：\",y_)"
   ]
  },
  {
   "cell_type": "code",
   "execution_count": 20,
   "metadata": {},
   "outputs": [
    {
     "data": {
      "text/html": [
       "<table class=\"simpletable\">\n",
       "<caption>OLS Regression Results</caption>\n",
       "<tr>\n",
       "  <th>Dep. Variable:</th>            <td>y</td>        <th>  R-squared:         </th> <td>   0.995</td>\n",
       "</tr>\n",
       "<tr>\n",
       "  <th>Model:</th>                   <td>OLS</td>       <th>  Adj. R-squared:    </th> <td>   0.995</td>\n",
       "</tr>\n",
       "<tr>\n",
       "  <th>Method:</th>             <td>Least Squares</td>  <th>  F-statistic:       </th> <td>   3587.</td>\n",
       "</tr>\n",
       "<tr>\n",
       "  <th>Date:</th>             <td>Fri, 12 Apr 2019</td> <th>  Prob (F-statistic):</th> <td>3.59e-22</td>\n",
       "</tr>\n",
       "<tr>\n",
       "  <th>Time:</th>                 <td>19:47:23</td>     <th>  Log-Likelihood:    </th> <td> -29.996</td>\n",
       "</tr>\n",
       "<tr>\n",
       "  <th>No. Observations:</th>      <td>    20</td>      <th>  AIC:               </th> <td>   63.99</td>\n",
       "</tr>\n",
       "<tr>\n",
       "  <th>Df Residuals:</th>          <td>    18</td>      <th>  BIC:               </th> <td>   65.98</td>\n",
       "</tr>\n",
       "<tr>\n",
       "  <th>Df Model:</th>              <td>     1</td>      <th>                     </th>     <td> </td>   \n",
       "</tr>\n",
       "<tr>\n",
       "  <th>Covariance Type:</th>      <td>nonrobust</td>    <th>                     </th>     <td> </td>   \n",
       "</tr>\n",
       "</table>\n",
       "<table class=\"simpletable\">\n",
       "<tr>\n",
       "    <td></td>       <th>coef</th>     <th>std err</th>      <th>t</th>      <th>P>|t|</th>  <th>[0.025</th>    <th>0.975]</th>  \n",
       "</tr>\n",
       "<tr>\n",
       "  <th>const</th> <td>    1.8441</td> <td>    0.493</td> <td>    3.744</td> <td> 0.001</td> <td>    0.809</td> <td>    2.879</td>\n",
       "</tr>\n",
       "<tr>\n",
       "  <th>x1</th>    <td>    5.0432</td> <td>    0.084</td> <td>   59.890</td> <td> 0.000</td> <td>    4.866</td> <td>    5.220</td>\n",
       "</tr>\n",
       "</table>\n",
       "<table class=\"simpletable\">\n",
       "<tr>\n",
       "  <th>Omnibus:</th>       <td> 0.444</td> <th>  Durbin-Watson:     </th> <td>   2.037</td>\n",
       "</tr>\n",
       "<tr>\n",
       "  <th>Prob(Omnibus):</th> <td> 0.801</td> <th>  Jarque-Bera (JB):  </th> <td>   0.545</td>\n",
       "</tr>\n",
       "<tr>\n",
       "  <th>Skew:</th>          <td>-0.079</td> <th>  Prob(JB):          </th> <td>   0.761</td>\n",
       "</tr>\n",
       "<tr>\n",
       "  <th>Kurtosis:</th>      <td> 2.207</td> <th>  Cond. No.          </th> <td>    11.5</td>\n",
       "</tr>\n",
       "</table><br/><br/>Warnings:<br/>[1] Standard Errors assume that the covariance matrix of the errors is correctly specified."
      ],
      "text/plain": [
       "<class 'statsmodels.iolib.summary.Summary'>\n",
       "\"\"\"\n",
       "                            OLS Regression Results                            \n",
       "==============================================================================\n",
       "Dep. Variable:                      y   R-squared:                       0.995\n",
       "Model:                            OLS   Adj. R-squared:                  0.995\n",
       "Method:                 Least Squares   F-statistic:                     3587.\n",
       "Date:                Fri, 12 Apr 2019   Prob (F-statistic):           3.59e-22\n",
       "Time:                        19:47:23   Log-Likelihood:                -29.996\n",
       "No. Observations:                  20   AIC:                             63.99\n",
       "Df Residuals:                      18   BIC:                             65.98\n",
       "Df Model:                           1                                         \n",
       "Covariance Type:            nonrobust                                         \n",
       "==============================================================================\n",
       "                 coef    std err          t      P>|t|      [0.025      0.975]\n",
       "------------------------------------------------------------------------------\n",
       "const          1.8441      0.493      3.744      0.001       0.809       2.879\n",
       "x1             5.0432      0.084     59.890      0.000       4.866       5.220\n",
       "==============================================================================\n",
       "Omnibus:                        0.444   Durbin-Watson:                   2.037\n",
       "Prob(Omnibus):                  0.801   Jarque-Bera (JB):                0.545\n",
       "Skew:                          -0.079   Prob(JB):                        0.761\n",
       "Kurtosis:                       2.207   Cond. No.                         11.5\n",
       "==============================================================================\n",
       "\n",
       "Warnings:\n",
       "[1] Standard Errors assume that the covariance matrix of the errors is correctly specified.\n",
       "\"\"\""
      ]
     },
     "execution_count": 20,
     "metadata": {},
     "output_type": "execute_result"
    }
   ],
   "source": [
    "#查看全部信息用summary()\n",
    "res.summary()"
   ]
  },
  {
   "cell_type": "code",
   "execution_count": 27,
   "metadata": {},
   "outputs": [
    {
     "data": {
      "image/png": "[encoded data removed]",
      "text/plain": [
       "<Figure size 576x432 with 1 Axes>"
      ]
     },
     "metadata": {
      "needs_background": "light"
     },
     "output_type": "display_data"
    }
   ],
   "source": [
    "#==画图比较预测值与真实值拟合情况==\n",
    "fig,ax = plt.subplots(figsize=(8,6))\n",
    "ax.plot(x,y,'o',label='trainData')#原始数据\n",
    "ax.plot(x,y_,'r--',label='testData')#拟合（预测）数据\n",
    "ax.legend(loc='best')\n",
    "plt.show()\n",
    "\n",
    "#结果显示这组x与y线性关系拟合显著"
   ]
  },
  {
   "cell_type": "code",
   "execution_count": null,
   "metadata": {},
   "outputs": [],
   "source": []
  }
 ],
 "metadata": {
  "kernelspec": {
   "display_name": "Python 3",
   "language": "python",
   "name": "python3"
  },
  "language_info": {
   "codemirror_mode": {
    "name": "ipython",
    "version": 3
   },
   "file_extension": ".py",
   "mimetype": "text/x-python",
   "name": "python",
   "nbconvert_exporter": "python",
   "pygments_lexer": "ipython3",
   "version": "3.6.8"
  }
 },
 "nbformat": 4,
 "nbformat_minor": 2
}
