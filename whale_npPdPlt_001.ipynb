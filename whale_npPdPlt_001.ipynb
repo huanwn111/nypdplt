{
 "cells": [
  {
   "cell_type": "markdown",
   "metadata": {},
   "source": [
    "# 数据分析 numpy 100题\n"
   ]
  },
  {
   "cell_type": "code",
   "execution_count": 1,
   "metadata": {},
   "outputs": [],
   "source": [
    "import numpy as np"
   ]
  },
  {
   "cell_type": "code",
   "execution_count": 5,
   "metadata": {},
   "outputs": [
    {
     "name": "stdout",
     "output_type": "stream",
     "text": [
      "1.16.2\n"
     ]
    }
   ],
   "source": [
    "print(np.__version__)#打印版本号\n",
    "#print(np.show_config())#打印numpy配置信息"
   ]
  },
  {
   "cell_type": "code",
   "execution_count": 7,
   "metadata": {},
   "outputs": [
    {
     "name": "stdout",
     "output_type": "stream",
     "text": [
      "[0. 0. 0. 0. 0. 0. 0. 0. 0. 0.]\n"
     ]
    }
   ],
   "source": [
    "#创建一个长度为10的空向量(都为0)\n",
    "z = np.zeros(10)\n",
    "print(z)"
   ]
  },
  {
   "cell_type": "code",
   "execution_count": 9,
   "metadata": {},
   "outputs": [
    {
     "name": "stdout",
     "output_type": "stream",
     "text": [
      "10\n",
      "8\n"
     ]
    }
   ],
   "source": [
    "#查看数组内存大小\n",
    "print(z.size)#10 数据元素个数\n",
    "print(z.itemsize)#8 8字节 ndarray 对象中每个元素的大小，以字节为单位"
   ]
  },
  {
   "cell_type": "code",
   "execution_count": 11,
   "metadata": {},
   "outputs": [],
   "source": [
    "#查看numpy中add函数的说明文档\n",
    "#print(np.info(np.add))\n",
    "#add(x1, x2, /, out=None, *, where=True, casting='same_kind', order='K', dtype=None, subok=True[, signature, extobj])"
   ]
  },
  {
   "cell_type": "code",
   "execution_count": 12,
   "metadata": {},
   "outputs": [
    {
     "name": "stdout",
     "output_type": "stream",
     "text": [
      "[0. 0. 0. 0. 1. 0. 0. 0. 0. 0.]\n"
     ]
    }
   ],
   "source": [
    "#创建一个长度为10并且除了第五个值为1的空向量\n",
    "z2 = np.zeros(10)\n",
    "z2[4] = 1\n",
    "print(z2)"
   ]
  },
  {
   "cell_type": "code",
   "execution_count": 14,
   "metadata": {},
   "outputs": [
    {
     "name": "stdout",
     "output_type": "stream",
     "text": [
      "[10 11 12 13 14 15 16 17 18 19 20 21 22 23 24 25 26 27 28 29 30 31 32 33\n",
      " 34 35 36 37 38 39 40 41 42 43 44 45 46 47 48 49]\n"
     ]
    }
   ],
   "source": [
    "#创建一个值域范围从10到49的向量\n",
    "#z3 = np.arr(np.arange(10,49))#\n",
    "z3 = np.arange(10,50)#直接np.arange()即可\n",
    "print(z3)"
   ]
  },
  {
   "cell_type": "code",
   "execution_count": 16,
   "metadata": {},
   "outputs": [
    {
     "name": "stdout",
     "output_type": "stream",
     "text": [
      "[49 48 47 46 45 44 43 42 41 40 39 38 37 36 35 34 33 32 31 30 29 28 27 26\n",
      " 25 24 23 22 21 20 19 18 17 16 15 14 13 12 11 10]\n"
     ]
    }
   ],
   "source": [
    "#反转一个向量(第一个元素变为最后一个)\n",
    "#print(np.reverse(z3))\n",
    "z4 = z3[::-1]#【::-1 把数组反转倒排】\n",
    "print(z4)"
   ]
  },
  {
   "cell_type": "code",
   "execution_count": 17,
   "metadata": {},
   "outputs": [
    {
     "name": "stdout",
     "output_type": "stream",
     "text": [
      "[[0 1 2]\n",
      " [3 4 5]\n",
      " [6 7 8]]\n"
     ]
    }
   ],
   "source": [
    "#创建一个 3x3 并且值从0到8的矩阵\n",
    "z5 = np.arange(0,9).reshape(3,3)#arange(9)即可，从0开始的前面0可省\n",
    "print(z5)"
   ]
  },
  {
   "cell_type": "code",
   "execution_count": 21,
   "metadata": {},
   "outputs": [
    {
     "name": "stdout",
     "output_type": "stream",
     "text": [
      "(array([0, 1, 4], dtype=int64),)\n"
     ]
    }
   ],
   "source": [
    "#找到数组[1,2,0,0,4,0]中非0元素的位置索引 \n",
    "z6 = [1,2,0,0,4,0]\n",
    "#z6.index(z6.values !1=0)\n",
    "#print(z6)\n",
    "print(np.nonzero(z6))#【np.nonzero 返回非0元素索引】"
   ]
  },
  {
   "cell_type": "code",
   "execution_count": 22,
   "metadata": {},
   "outputs": [
    {
     "name": "stdout",
     "output_type": "stream",
     "text": [
      "[[1. 0. 0.]\n",
      " [0. 1. 0.]\n",
      " [0. 0. 1.]]\n"
     ]
    }
   ],
   "source": [
    "#创建一个 3x3 的单位矩阵【对角线两边一样，叫单位矩阵】\n",
    "print(np.eye(3,3))#【行列传值进去即可】"
   ]
  },
  {
   "cell_type": "code",
   "execution_count": 38,
   "metadata": {},
   "outputs": [
    {
     "name": "stdout",
     "output_type": "stream",
     "text": [
      "111: [[[-1.47490065  1.30910695 -0.29284134]\n",
      "  [ 1.6594273   0.35197031 -1.30283066]\n",
      "  [-1.35387873  0.1715873  -1.02298599]]\n",
      "\n",
      " [[-1.17598821 -0.80138195  0.31248565]\n",
      "  [-0.64302928 -0.4081859   0.65137354]\n",
      "  [-1.43974445 -2.04352281  0.21966452]]\n",
      "\n",
      " [[-1.28760514 -0.1797926  -1.84176098]\n",
      "  [-0.15647743  0.41916723 -0.83682258]\n",
      "  [-0.65099978 -0.46529617  0.42633292]]]\n"
     ]
    }
   ],
   "source": [
    "#创建一个 3x3x3的随机数组\n",
    "print(\"111:\",np.random.randn(3,3,3))#【np.random.randn(行，列,组)创建3组3行3列随机数据】 （3,3）为行列两维\n",
    "#print(\"222:\",np.random.random((3,3,3)))#同上"
   ]
  },
  {
   "cell_type": "code",
   "execution_count": 42,
   "metadata": {},
   "outputs": [
    {
     "name": "stdout",
     "output_type": "stream",
     "text": [
      "[[ 2.79105288e-01  7.28547647e-01 -1.48250926e-01  2.53340856e-01\n",
      "  -2.91749521e-02 -1.68987392e+00 -1.99479130e-01 -1.04784884e+00\n",
      "   6.11570377e-01 -1.31879487e+00]\n",
      " [ 1.99408928e+00 -3.70025363e-02 -5.81361922e-01 -5.24944792e-01\n",
      "  -6.34798162e-01  7.41426949e-01  1.57913317e+00  8.34302946e-01\n",
      "  -6.34511343e-02 -3.58415009e-01]\n",
      " [ 1.08987955e+00  9.18634149e-01  9.11274488e-01 -3.39876728e-01\n",
      "  -5.71138177e-01  1.20326189e+00 -2.06021814e-01  1.74337771e+00\n",
      "  -2.34097832e+00 -1.03170595e+00]\n",
      " [-3.33083010e-01  4.31057083e-01  1.08544876e+00 -1.58306862e+00\n",
      "   3.19594269e-01  2.39694468e-01 -6.81110588e-01  3.62117447e-01\n",
      "   4.25693824e-01  2.25693271e-01]\n",
      " [-1.31294105e+00  5.59262974e-01  1.29870759e-01 -1.69597377e+00\n",
      "  -6.42649845e-01  2.67216358e+00 -3.82209540e-01 -9.01108355e-01\n",
      "   2.42693460e-01  1.26458824e-01]\n",
      " [ 9.71073378e-01  9.16367754e-01 -7.97697874e-01  1.98117597e-01\n",
      "   3.48071333e-01  3.00553155e-01 -6.04899510e-01 -1.00614109e-01\n",
      "  -1.83052532e-01  8.57642469e-01]\n",
      " [ 6.36898795e-01 -1.72867915e-01  1.21769589e+00 -1.62873176e-01\n",
      "   7.11775108e-01 -3.26623788e-01  3.10475688e-03 -1.18989917e+00\n",
      "  -6.98815249e-01  6.86422552e-01]\n",
      " [-1.22788388e+00  1.04866890e+00  2.37449368e-01  8.55775512e-01\n",
      "  -1.05250774e+00 -5.66844463e-01  1.93995179e+00  1.21571946e+00\n",
      "   3.91611069e-04  3.45291932e-01]\n",
      " [ 3.71672643e-01 -8.50552297e-01 -2.76542202e-01 -8.96937827e-01\n",
      "   5.04089463e-01  3.77877441e-01  5.91504528e-01 -1.56149376e+00\n",
      "   1.02210455e+00 -2.35752469e-01]\n",
      " [-1.65242622e+00  5.43677585e-01  4.86798685e-02 -1.61115812e+00\n",
      "   9.59704352e-01 -9.39992644e-01 -8.87954682e-02 -1.00842248e+00\n",
      "   1.11129464e+00  5.06548928e-01]]\n",
      "最大值： 2.67216358166858\n",
      "最大值 2.67216358166858\n",
      "最小值： -2.340978324694159\n",
      "最大值 -2.340978324694159\n"
     ]
    }
   ],
   "source": [
    "#创建一个 10x10 的随机数组并找到它的最大值和最小值\n",
    "z7 = np.random.randn(10,10)\n",
    "print(z7)\n",
    "print(\"最大值：\",np.max(z7))\n",
    "print(\"最大值\",z7.max())\n",
    "#【以下方法也可】\n",
    "print(\"最小值：\",np.min(z7))\n",
    "print(\"最大值\",z7.min())"
   ]
  },
  {
   "cell_type": "code",
   "execution_count": 44,
   "metadata": {},
   "outputs": [
    {
     "name": "stdout",
     "output_type": "stream",
     "text": [
      "[-0.43274003  1.28582234 -0.83085437 -0.46475154  0.62375605 -0.09859179\n",
      " -0.34649371 -0.40996203  0.21972309  0.19365678  0.73115465  0.62423358\n",
      " -0.13362529 -1.20789732  0.07831041 -0.04233411  0.15434415 -0.43631505\n",
      " -0.21588022  2.29847983 -0.24874772 -1.25660916 -0.64689348  0.16760581\n",
      " -1.02722347  1.87347139  0.50329465  0.10883231 -0.61774618  0.06367624]\n",
      "平均值： 0.01698986009417562\n"
     ]
    }
   ],
   "source": [
    "#创建一个长度为30的随机向量并找到它的平均值\n",
    "z8 = np.random.randn(30)\n",
    "print(z8)\n",
    "print(\"平均值：\",z8.mean())"
   ]
  },
  {
   "cell_type": "code",
   "execution_count": 52,
   "metadata": {},
   "outputs": [
    {
     "name": "stdout",
     "output_type": "stream",
     "text": [
      "[[1. 1. 1. 1. 1. 1. 1. 1. 1. 1.]\n",
      " [1. 1. 1. 1. 1. 1. 1. 1. 1. 1.]\n",
      " [1. 1. 1. 1. 1. 1. 1. 1. 1. 1.]\n",
      " [1. 1. 1. 1. 1. 1. 1. 1. 1. 1.]\n",
      " [1. 1. 1. 1. 1. 1. 1. 1. 1. 1.]\n",
      " [1. 1. 1. 1. 1. 1. 1. 1. 1. 1.]\n",
      " [1. 1. 1. 1. 1. 1. 1. 1. 1. 1.]\n",
      " [1. 1. 1. 1. 1. 1. 1. 1. 1. 1.]\n",
      " [1. 1. 1. 1. 1. 1. 1. 1. 1. 1.]\n",
      " [1. 1. 1. 1. 1. 1. 1. 1. 1. 1.]]\n",
      "[[1. 1. 1. 1. 1. 1. 1. 1. 1. 1.]\n",
      " [1. 0. 0. 0. 0. 0. 0. 0. 0. 1.]\n",
      " [1. 0. 0. 0. 0. 0. 0. 0. 0. 1.]\n",
      " [1. 0. 0. 0. 0. 0. 0. 0. 0. 1.]\n",
      " [1. 0. 0. 0. 0. 0. 0. 0. 0. 1.]\n",
      " [1. 0. 0. 0. 0. 0. 0. 0. 0. 1.]\n",
      " [1. 0. 0. 0. 0. 0. 0. 0. 0. 1.]\n",
      " [1. 0. 0. 0. 0. 0. 0. 0. 0. 1.]\n",
      " [1. 0. 0. 0. 0. 0. 0. 0. 0. 1.]\n",
      " [1. 1. 1. 1. 1. 1. 1. 1. 1. 1.]]\n"
     ]
    }
   ],
   "source": [
    "#创建一个二维数组，其中边界值为1，其余值为0\n",
    "z9 = np.ones((10,10))\n",
    "print(z9)\n",
    "z9[1:-1,1:-1]=0\n",
    "print(z9)\n"
   ]
  },
  {
   "cell_type": "code",
   "execution_count": 56,
   "metadata": {},
   "outputs": [
    {
     "name": "stdout",
     "output_type": "stream",
     "text": [
      "[[0. 0. 0. 0. 0.]\n",
      " [0. 1. 1. 1. 0.]\n",
      " [0. 1. 1. 1. 0.]\n",
      " [0. 1. 1. 1. 0.]\n",
      " [0. 0. 0. 0. 0.]]\n"
     ]
    }
   ],
   "source": [
    "#给数组用0填充的边界\n",
    "z10 = np.ones((3,3))#双重括号，注意\n",
    "z10 = np.pad(z10,pad_width=1,mode='constant',constant_values=0)\n",
    "print(z10)"
   ]
  },
  {
   "cell_type": "code",
   "execution_count": 62,
   "metadata": {},
   "outputs": [
    {
     "data": {
      "text/plain": [
       "False"
      ]
     },
     "execution_count": 62,
     "metadata": {},
     "output_type": "execute_result"
    }
   ],
   "source": [
    "0 * np.nan#nan\n",
    "np.nan == np.nan#False\n",
    "np.inf > np.nan#False\n",
    "np.nan - np.nan#nan\n",
    "0.3 == 3 * 0.1#false\n",
    "#nan 非数字 inf infinity无穷"
   ]
  },
  {
   "cell_type": "code",
   "execution_count": 73,
   "metadata": {},
   "outputs": [
    {
     "name": "stdout",
     "output_type": "stream",
     "text": [
      "[[0. 0. 0. 0. 0.]\n",
      " [0. 0. 0. 0. 0.]\n",
      " [0. 0. 0. 0. 0.]\n",
      " [0. 0. 0. 0. 0.]\n",
      " [0. 0. 0. 0. 0.]]\n",
      "[[0 0 0 0 0]\n",
      " [1 0 0 0 0]\n",
      " [0 2 0 0 0]\n",
      " [0 0 3 0 0]\n",
      " [0 0 0 4 0]]\n",
      "[[2. 0. 0. 0.]\n",
      " [0. 2. 0. 0.]\n",
      " [0. 0. 2. 0.]\n",
      " [0. 0. 0. 2.]]\n"
     ]
    }
   ],
   "source": [
    "#创建一个 5x5的矩阵，并设置值1,2,3,4落在其对角线下方位置\n",
    "z11 = np.zeros((5,5))\n",
    "print(z11)\n",
    "Z11 = np.diag(1+np.arange(4),k=-1)#0到3都加1变到1到4，k=-1在对角下下\n",
    "print(Z11)\n",
    "Z11 = np.diag(np.ones(4)+1,k=0)#diag填充对角线,k=0对角线，-1对角线下移一位，+1对角线上移一位\n",
    "print(Z11)"
   ]
  },
  {
   "cell_type": "code",
   "execution_count": 83,
   "metadata": {},
   "outputs": [
    {
     "name": "stdout",
     "output_type": "stream",
     "text": [
      "[[0. 1. 0. 1. 0. 1. 0. 1.]\n",
      " [1. 0. 1. 0. 1. 0. 1. 0.]\n",
      " [0. 1. 0. 1. 0. 1. 0. 1.]\n",
      " [1. 0. 1. 0. 1. 0. 1. 0.]\n",
      " [0. 1. 0. 1. 0. 1. 0. 1.]\n",
      " [1. 0. 1. 0. 1. 0. 1. 0.]\n",
      " [0. 1. 0. 1. 0. 1. 0. 1.]\n",
      " [1. 0. 1. 0. 1. 0. 1. 0.]]\n"
     ]
    }
   ],
   "source": [
    "#创建一个8x8 的矩阵，并且设置成棋盘样式\n",
    "#【:: 意思 start : end : step间隔步长。行从1起到尾，间隔2个，设为1】\n",
    "z12 = np.zeros((8,8))\n",
    "#z12[1::2] =1 \n",
    "#print(z12)\n",
    "#z12[:,::2] =1 #列::2从0开始到尾，间隔2个\n",
    "#print(z12)\n",
    "z12[1::2,::2] = 1\n",
    "#print(z12)\n",
    "z12[::2,1::2]=1\n",
    "print(z12)"
   ]
  },
  {
   "cell_type": "code",
   "execution_count": 93,
   "metadata": {},
   "outputs": [
    {
     "name": "stdout",
     "output_type": "stream",
     "text": [
      "[[0 5 0 5 0 5]\n",
      " [1 0 1 0 1 0]\n",
      " [0 5 0 5 0 5]\n",
      " [1 0 1 0 1 0]\n",
      " [0 5 0 5 0 5]\n",
      " [1 0 1 0 1 0]]\n"
     ]
    }
   ],
   "source": [
    "#用tile函数创建一个 8x8的棋盘样式矩阵\n",
    "#【tile横向纵向复制矩阵】\n",
    "z14 = np.tile(np.array([[0,5],[1,0]]),(3,3))\n",
    "print(z14)"
   ]
  },
  {
   "cell_type": "code",
   "execution_count": 89,
   "metadata": {},
   "outputs": [
    {
     "name": "stdout",
     "output_type": "stream",
     "text": [
      "[[[  0   1   2   3   4   5   6   7]\n",
      "  [  8   9  10  11  12  13  14  15]\n",
      "  [ 16  17  18  19  20  21  22  23]\n",
      "  [ 24  25  26  27  28  29  30  31]\n",
      "  [ 32  33  34  35  36  37  38  39]\n",
      "  [ 40  41  42  43  44  45  46  47]\n",
      "  [ 48  49  50  51  52  53  54  55]]\n",
      "\n",
      " [[ 56  57  58  59  60  61  62  63]\n",
      "  [ 64  65  66  67  68  69  70  71]\n",
      "  [ 72  73  74  75  76  77  78  79]\n",
      "  [ 80  81  82  83  84  85  86  87]\n",
      "  [ 88  89  90  91  92  93  94  95]\n",
      "  [ 96  97  98  99 100 101 102 103]\n",
      "  [104 105 106 107 108 109 110 111]]\n",
      "\n",
      " [[112 113 114 115 116 117 118 119]\n",
      "  [120 121 122 123 124 125 126 127]\n",
      "  [128 129 130 131 132 133 134 135]\n",
      "  [136 137 138 139 140 141 142 143]\n",
      "  [144 145 146 147 148 149 150 151]\n",
      "  [152 153 154 155 156 157 158 159]\n",
      "  [160 161 162 163 164 165 166 167]]\n",
      "\n",
      " [[168 169 170 171 172 173 174 175]\n",
      "  [176 177 178 179 180 181 182 183]\n",
      "  [184 185 186 187 188 189 190 191]\n",
      "  [192 193 194 195 196 197 198 199]\n",
      "  [200 201 202 203 204 205 206 207]\n",
      "  [208 209 210 211 212 213 214 215]\n",
      "  [216 217 218 219 220 221 222 223]]\n",
      "\n",
      " [[224 225 226 227 228 229 230 231]\n",
      "  [232 233 234 235 236 237 238 239]\n",
      "  [240 241 242 243 244 245 246 247]\n",
      "  [248 249 250 251 252 253 254 255]\n",
      "  [256 257 258 259 260 261 262 263]\n",
      "  [264 265 266 267 268 269 270 271]\n",
      "  [272 273 274 275 276 277 278 279]]\n",
      "\n",
      " [[280 281 282 283 284 285 286 287]\n",
      "  [288 289 290 291 292 293 294 295]\n",
      "  [296 297 298 299 300 301 302 303]\n",
      "  [304 305 306 307 308 309 310 311]\n",
      "  [312 313 314 315 316 317 318 319]\n",
      "  [320 321 322 323 324 325 326 327]\n",
      "  [328 329 330 331 332 333 334 335]]]\n",
      "第100个元素的下标索引位置： (1, 5, 4)\n"
     ]
    }
   ],
   "source": [
    "#考虑一个 (6,7,8) 形状的数组，其第100个元素的索引(x,y,z)是什么\n",
    "z13 = np.arange(6*7*8).reshape(6,7,8)#【6，7，8维数个数就是6*7*8】\n",
    "print(z13)\n",
    "print(\"第100个元素的下标索引位置：\",np.unravel_index(100,(6,7,8)))#【unravel_index获取数据中某个值的下标】"
   ]
  },
  {
   "cell_type": "code",
   "execution_count": 99,
   "metadata": {},
   "outputs": [
    {
     "name": "stdout",
     "output_type": "stream",
     "text": [
      "[[0.1143995  0.06283023 0.09090944 0.10121299 0.76857741]\n",
      " [0.81191337 0.73158852 0.34547789 0.92070677 0.24488332]\n",
      " [0.78921967 0.522654   0.54628115 0.10019974 0.62686799]\n",
      " [0.01747023 0.01615    0.19919705 0.91762014 0.36523724]\n",
      " [0.79255033 0.13627566 0.12814669 0.38921649 0.77134305]]\n",
      "[[0.10861618 0.05160564 0.0826476  0.09403831 0.83181889]\n",
      " [0.87972739 0.79092716 0.36407652 1.         0.25286784]\n",
      " [0.85463919 0.55994717 0.58606731 0.09291815 0.67515717]\n",
      " [0.00145954 0.         0.20236104 0.99658769 0.38592077]\n",
      " [0.85832129 0.13280057 0.12381388 0.41243016 0.83487634]]\n"
     ]
    }
   ],
   "source": [
    "#对一个5x5的随机矩阵做归一化 (x - min) / (max - min)\n",
    "z15 = np.random.random((5,5))\n",
    "print(z15)\n",
    "z16 = (z15-z15.min())/(z15.max() - z15.min())\n",
    "print(z16)"
   ]
  },
  {
   "cell_type": "code",
   "execution_count": 101,
   "metadata": {},
   "outputs": [
    {
     "name": "stdout",
     "output_type": "stream",
     "text": [
      "[('r', 'u1'), ('g', 'u1'), ('b', 'u1'), ('a', 'u1')]\n"
     ]
    }
   ],
   "source": [
    "#创建一个将颜色描述为(RGBA)四个无符号字节的自定义dtype，自定义类型float64 = np.dtype('float64')\n",
    "color = np.dtype([(\"r\", np.ubyte, 1),\n",
    "                   (\"g\", np.ubyte, 1),\n",
    "                  (\"b\", np.ubyte, 1),\n",
    "                  (\"a\", np.ubyte, 1)])\n",
    "print(color)"
   ]
  },
  {
   "cell_type": "code",
   "execution_count": 102,
   "metadata": {},
   "outputs": [
    {
     "name": "stdout",
     "output_type": "stream",
     "text": [
      "[[3. 3.]\n",
      " [3. 3.]\n",
      " [3. 3.]\n",
      " [3. 3.]\n",
      " [3. 3.]]\n"
     ]
    }
   ],
   "source": [
    "#一个5x3的矩阵与一个3x2的矩阵相乘，实矩阵乘积是什么dot 矩阵点乘\n",
    "z17 = np.ones((5,3))\n",
    "z18 = np.ones((3,2))\n",
    "zMulti = np.dot(z17,z18)\n",
    "print(zMulti)"
   ]
  },
  {
   "cell_type": "code",
   "execution_count": 115,
   "metadata": {},
   "outputs": [
    {
     "name": "stdout",
     "output_type": "stream",
     "text": [
      "[ 0  1  2 -3 -4 -5 -6 -7 -8  9 10 11 12 13 14]\n",
      "[-3 -4 -5 -6 -7 -8]\n"
     ]
    }
   ],
   "source": [
    "#给定一个一维数组，对其在3到8之间的所有元素取反\n",
    "z19 = np.arange(15)\n",
    "#z20 = z19[3:9].reverse()\n",
    "z19[3:9] *= -1#【3到9之间*= -1,不会把变的切出来】[ 0  1  2 -3 -4 -5 -6 -7 -8  9 10 11 12 13 14]\n",
    "print(z19)\n",
    "z19_2 = np.arange(15)\n",
    "#z19[3:9] * -1 #【不加*= 不会赋回去替换掉原来的】[ 0  1  2  3  4  5  6  7  8  9 10 11 12 13 14]\n",
    "z20 = z19_2[3:9] * -1#【*，最后赋值给新变量，切出来了】[-3 -4 -5 -6 -7 -8]\n",
    "print(z20)"
   ]
  },
  {
   "cell_type": "code",
   "execution_count": 117,
   "metadata": {},
   "outputs": [
    {
     "name": "stdout",
     "output_type": "stream",
     "text": [
      "9\n",
      "10\n"
     ]
    }
   ],
   "source": [
    "#【=========np.sum ？=======================】\n",
    "print(sum(range(5),-1))\n",
    "from numpy import *\n",
    "print(sum(range(5),-1))"
   ]
  },
  {
   "cell_type": "code",
   "execution_count": 124,
   "metadata": {},
   "outputs": [
    {
     "name": "stdout",
     "output_type": "stream",
     "text": [
      "27\n",
      "4\n",
      "False\n",
      "3j\n",
      "3.0\n",
      "False\n",
      "[  1   1   4  27 256]\n",
      "[0 1 2 4 8]\n",
      "[False False False False False]\n",
      "[0.+0.j 0.+1.j 0.+2.j 0.+3.j 0.+4.j]\n",
      "[0. 1. 2. 3. 4.]\n"
     ]
    }
   ],
   "source": [
    "#考虑一个整数向量Z,下列表达合法的是哪个\n",
    "Z= 3\n",
    "print(Z**Z)\n",
    "print(2 << Z >> 2)\n",
    "print(Z <- Z)\n",
    "print(1j*Z)\n",
    "print(Z/1/1)\n",
    "print(Z<Z>Z)\n",
    "\n",
    "Z= np.arange(5)\n",
    "print(Z**Z)\n",
    "print(2 << Z >> 2)\n",
    "print(Z <- Z)\n",
    "print(1j*Z)\n",
    "print(Z/1/1)\n",
    "#print(Z<Z>Z)#False"
   ]
  },
  {
   "cell_type": "code",
   "execution_count": 125,
   "metadata": {},
   "outputs": [
    {
     "name": "stdout",
     "output_type": "stream",
     "text": [
      "nan\n",
      "0\n",
      "[-2.14748365e+09]\n"
     ]
    },
    {
     "name": "stderr",
     "output_type": "stream",
     "text": [
      "G:\\Users\\Administrator\\Anaconda3\\lib\\site-packages\\ipykernel_launcher.py:1: RuntimeWarning: invalid value encountered in true_divide\n",
      "  \"\"\"Entry point for launching an IPython kernel.\n",
      "G:\\Users\\Administrator\\Anaconda3\\lib\\site-packages\\ipykernel_launcher.py:2: RuntimeWarning: divide by zero encountered in floor_divide\n",
      "  \n"
     ]
    }
   ],
   "source": [
    "print(np.array(0) / np.array(0))\n",
    "print(np.array(0) // np.array(0))\n",
    "print(np.array([np.nan]).astype(int).astype(float))"
   ]
  },
  {
   "cell_type": "code",
   "execution_count": 127,
   "metadata": {},
   "outputs": [
    {
     "name": "stdout",
     "output_type": "stream",
     "text": [
      "[0. 1. 2. 3. 4.]\n"
     ]
    }
   ],
   "source": [
    "#如何从零位对浮点数组做舍入\n",
    "# Z = np.random.uniform(-10,+10,10)\n",
    "#(提示: np.uniform, np.copysign, np.ceil, np.abs)\n",
    "print (np.copysign(np.ceil(np.abs(Z)), Z))"
   ]
  },
  {
   "cell_type": "code",
   "execution_count": 128,
   "metadata": {},
   "outputs": [
    {
     "name": "stdout",
     "output_type": "stream",
     "text": [
      "[0 1 2 5 7]\n"
     ]
    }
   ],
   "source": [
    "#如何找到两个数组中的共同元素? \n",
    "#(提示: np.intersect1d)\n",
    "Z1 = np.random.randint(0,10,10)\n",
    "Z2 = np.random.randint(0,10,10)\n",
    "print(np.intersect1d(Z1,Z2))\n"
   ]
  },
  {
   "cell_type": "code",
   "execution_count": null,
   "metadata": {},
   "outputs": [],
   "source": [
    "#如何忽略所有的 numpy 警告(尽管不建议这么做)?\n",
    "#(提示: np.seterr, np.errstate)\n",
    "# Suicide mode on\n",
    "defaults = np.seterr(all=\"ignore\")\n",
    "Z = np.ones(1) / 0\n",
    "\n",
    "# Back to sanity\n",
    "_ = np.seterr(**defaults)\n",
    "\n",
    "An equivalent way, with a context manager:\n",
    "\n",
    "with np.errstate(divide='ignore'):\n",
    "    Z = np.ones(1) / 0\n"
   ]
  },
  {
   "cell_type": "code",
   "execution_count": 131,
   "metadata": {},
   "outputs": [
    {
     "name": "stderr",
     "output_type": "stream",
     "text": [
      "G:\\Users\\Administrator\\Anaconda3\\lib\\site-packages\\ipykernel_launcher.py:3: RuntimeWarning: invalid value encountered in sqrt\n",
      "  This is separate from the ipykernel package so we can avoid doing imports until\n"
     ]
    },
    {
     "data": {
      "text/plain": [
       "False"
      ]
     },
     "execution_count": 131,
     "metadata": {},
     "output_type": "execute_result"
    }
   ],
   "source": [
    "#下面的表达式是正确的吗?\n",
    "#(提示: imaginary number)\n",
    "np.sqrt(-1) == np.emath.sqrt(-1)"
   ]
  },
  {
   "cell_type": "code",
   "execution_count": 132,
   "metadata": {},
   "outputs": [
    {
     "name": "stdout",
     "output_type": "stream",
     "text": [
      "Yesterday is 2019-06-22\n",
      "Today is 2019-06-23\n",
      "Tomorrow is 2019-06-24\n"
     ]
    }
   ],
   "source": [
    "#如何得到昨天，今天，明天的日期?\n",
    "#(提示: np.datetime64, np.timedelta64)\n",
    "yesterday = np.datetime64('today', 'D') - np.timedelta64(1, 'D')\n",
    "today     = np.datetime64('today', 'D')\n",
    "tomorrow  = np.datetime64('today', 'D') + np.timedelta64(1, 'D')\n",
    "print (\"Yesterday is \" + str(yesterday))\n",
    "print (\"Today is \" + str(today))\n",
    "print (\"Tomorrow is \"+ str(tomorrow))"
   ]
  },
  {
   "cell_type": "code",
   "execution_count": 133,
   "metadata": {},
   "outputs": [
    {
     "name": "stdout",
     "output_type": "stream",
     "text": [
      "['2016-07-01' '2016-07-02' '2016-07-03' '2016-07-04' '2016-07-05'\n",
      " '2016-07-06' '2016-07-07' '2016-07-08' '2016-07-09' '2016-07-10'\n",
      " '2016-07-11' '2016-07-12' '2016-07-13' '2016-07-14' '2016-07-15'\n",
      " '2016-07-16' '2016-07-17' '2016-07-18' '2016-07-19' '2016-07-20'\n",
      " '2016-07-21' '2016-07-22' '2016-07-23' '2016-07-24' '2016-07-25'\n",
      " '2016-07-26' '2016-07-27' '2016-07-28' '2016-07-29' '2016-07-30'\n",
      " '2016-07-31']\n"
     ]
    }
   ],
   "source": [
    "#如何得到所有与2016年7月对应的日期？\n",
    "#(提示: np.arange(dtype=datetime64['D']))\n",
    "Z = np.arange('2016-07', '2016-08', dtype='datetime64[D]')\n",
    "print(Z)"
   ]
  },
  {
   "cell_type": "code",
   "execution_count": 134,
   "metadata": {},
   "outputs": [
    {
     "data": {
      "text/plain": [
       "array([3., 3., 3.])"
      ]
     },
     "execution_count": 134,
     "metadata": {},
     "output_type": "execute_result"
    }
   ],
   "source": [
    "#如何直接在位计算(A+B)\\*(-A/2)(不建立副本)? \n",
    "#(提示: np.add(out=), np.negative(out=), np.multiply(out=), np.divide(out=))\n",
    "A = np.ones(3)*1\n",
    "B = np.ones(3)*2\n",
    "C = np.ones(3)*3\n",
    "np.add(A,B,out=B)"
   ]
  },
  {
   "cell_type": "code",
   "execution_count": 136,
   "metadata": {},
   "outputs": [
    {
     "name": "stdout",
     "output_type": "stream",
     "text": [
      "[1. 0. 5. 5. 5. 0. 8. 2. 5. 3.]\n",
      "[1. 0. 5. 5. 5. 0. 8. 2. 5. 3.]\n",
      "[1. 0. 5. 5. 5. 0. 8. 2. 5. 3.]\n",
      "[1. 0. 5. 5. 5. 0. 8. 2. 5. 3.]\n",
      "[1. 0. 5. 5. 5. 0. 8. 2. 5. 3.]\n"
     ]
    }
   ],
   "source": [
    "#用五种不同的方法去提取一个随机数组的整数部分\n",
    "#(提示: %, np.floor, np.ceil, astype, np.trunc)\n",
    "Z = np.random.uniform(0,10,10)\n",
    "\n",
    "print (Z - Z%1)\n",
    "print (np.floor(Z))\n",
    "print (np.floor(Z))\n",
    "print (np.floor(Z))\n",
    "print (np.floor(Z))"
   ]
  },
  {
   "cell_type": "code",
   "execution_count": null,
   "metadata": {},
   "outputs": [],
   "source": []
  },
  {
   "cell_type": "code",
   "execution_count": 126,
   "metadata": {},
   "outputs": [
    {
     "name": "stdout",
     "output_type": "stream",
     "text": [
      "[-0.17892067  0.214375  ]\n"
     ]
    }
   ],
   "source": [
    "#对于一个一维数组X，计算它boostrapped之后的95%置信区间的平均值\n",
    "\n",
    "X = np.random.randn(100) # random 1D array\n",
    "N = 1000 # number of bootstrap samples\n",
    "idx = np.random.randint(0, X.size, (N, X.size))\n",
    "means = X[idx].mean(axis=1)\n",
    "confint = np.percentile(means, [2.5, 97.5])\n",
    "print(confint)"
   ]
  }
 ],
 "metadata": {
  "kernelspec": {
   "display_name": "Python 3",
   "language": "python",
   "name": "python3"
  },
  "language_info": {
   "codemirror_mode": {
    "name": "ipython",
    "version": 3
   },
   "file_extension": ".py",
   "mimetype": "text/x-python",
   "name": "python",
   "nbconvert_exporter": "python",
   "pygments_lexer": "ipython3",
   "version": "3.6.8"
  }
 },
 "nbformat": 4,
 "nbformat_minor": 2
}
