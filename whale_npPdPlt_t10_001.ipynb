{
 "cells": [
  {
   "cell_type": "markdown",
   "metadata": {},
   "source": [
    "# task10 数据分析实践 分析 CDNOW数据集 用户行为"
   ]
  },
  {
   "cell_type": "code",
   "execution_count": 64,
   "metadata": {},
   "outputs": [],
   "source": [
    "import pandas as pd\n",
    "import numpy as np\n",
    "import matplotlib.pyplot as plt\n",
    "from datetime import datetime\n",
    "%matplotlib inline"
   ]
  },
  {
   "cell_type": "code",
   "execution_count": 70,
   "metadata": {},
   "outputs": [
    {
     "name": "stdout",
     "output_type": "stream",
     "text": [
      "数据总量：\n",
      " (69659, 4)\n",
      "展示部分 前10条：\n",
      "    uId  orderDate  orderProducts  orderMoney\n",
      "0    1   19970101              1       11.77\n",
      "1    2   19970112              1       12.00\n",
      "2    2   19970112              5       77.00\n",
      "3    3   19970102              2       20.76\n",
      "4    3   19970330              2       20.76\n",
      "5    3   19970402              2       19.54\n",
      "6    3   19971115              5       57.45\n",
      "7    3   19971125              4       20.96\n",
      "8    3   19980528              1       16.99\n",
      "9    4   19970101              2       29.33\n",
      "展示部分 后10条：\n",
      "          uId  orderDate  orderProducts  orderMoney\n",
      "69649  23564   19971130              3       46.47\n",
      "69650  23565   19970325              1       11.77\n",
      "69651  23566   19970325              2       36.00\n",
      "69652  23567   19970325              1       20.97\n",
      "69653  23568   19970325              1       22.97\n",
      "69654  23568   19970405              4       83.74\n",
      "69655  23568   19970422              1       14.99\n",
      "69656  23569   19970325              2       25.74\n",
      "69657  23570   19970325              3       51.12\n",
      "69658  23570   19970326              2       42.96\n"
     ]
    },
    {
     "name": "stderr",
     "output_type": "stream",
     "text": [
      "G:\\Users\\Administrator\\Anaconda3\\lib\\site-packages\\ipykernel_launcher.py:5: FutureWarning: read_table is deprecated, use read_csv instead.\n",
      "  \"\"\"\n"
     ]
    }
   ],
   "source": [
    "#读数据\n",
    "#用户id,购买日期，购买数据，购买金额\n",
    "cols = ['uId','orderDate','orderProducts','orderMoney']\n",
    "#读文件加列名names=[]\n",
    "df = pd.read_table('./data/CDNOW_master.txt',names = cols, sep='\\s+')#read_table读文本 \\s+以不计数量空格区分\n",
    "print(\"数据总量：\\n\",df.shape)\n",
    "print(\"展示部分 前10条：\\n\",df.head(10))\n",
    "print(\"展示部分 后10条：\\n\",df.tail(10))"
   ]
  },
  {
   "cell_type": "code",
   "execution_count": 71,
   "metadata": {},
   "outputs": [
    {
     "data": {
      "text/html": [
       "<div>\n",
       "<style scoped>\n",
       "    .dataframe tbody tr th:only-of-type {\n",
       "        vertical-align: middle;\n",
       "    }\n",
       "\n",
       "    .dataframe tbody tr th {\n",
       "        vertical-align: top;\n",
       "    }\n",
       "\n",
       "    .dataframe thead th {\n",
       "        text-align: right;\n",
       "    }\n",
       "</style>\n",
       "<table border=\"1\" class=\"dataframe\">\n",
       "  <thead>\n",
       "    <tr style=\"text-align: right;\">\n",
       "      <th></th>\n",
       "      <th>uId</th>\n",
       "      <th>orderDate</th>\n",
       "      <th>orderProducts</th>\n",
       "      <th>orderMoney</th>\n",
       "    </tr>\n",
       "  </thead>\n",
       "  <tbody>\n",
       "    <tr>\n",
       "      <th>0</th>\n",
       "      <td>1</td>\n",
       "      <td>1997-01-01</td>\n",
       "      <td>1</td>\n",
       "      <td>11.77</td>\n",
       "    </tr>\n",
       "    <tr>\n",
       "      <th>1</th>\n",
       "      <td>2</td>\n",
       "      <td>1997-01-12</td>\n",
       "      <td>1</td>\n",
       "      <td>12.00</td>\n",
       "    </tr>\n",
       "    <tr>\n",
       "      <th>2</th>\n",
       "      <td>2</td>\n",
       "      <td>1997-01-12</td>\n",
       "      <td>5</td>\n",
       "      <td>77.00</td>\n",
       "    </tr>\n",
       "    <tr>\n",
       "      <th>3</th>\n",
       "      <td>3</td>\n",
       "      <td>1997-01-02</td>\n",
       "      <td>2</td>\n",
       "      <td>20.76</td>\n",
       "    </tr>\n",
       "    <tr>\n",
       "      <th>4</th>\n",
       "      <td>3</td>\n",
       "      <td>1997-03-30</td>\n",
       "      <td>2</td>\n",
       "      <td>20.76</td>\n",
       "    </tr>\n",
       "  </tbody>\n",
       "</table>\n",
       "</div>"
      ],
      "text/plain": [
       "   uId  orderDate  orderProducts  orderMoney\n",
       "0    1 1997-01-01              1       11.77\n",
       "1    2 1997-01-12              1       12.00\n",
       "2    2 1997-01-12              5       77.00\n",
       "3    3 1997-01-02              2       20.76\n",
       "4    3 1997-03-30              2       20.76"
      ]
     },
     "execution_count": 71,
     "metadata": {},
     "output_type": "execute_result"
    }
   ],
   "source": [
    "#时间转换pd.to_datetime(字符串，format='%Y%m%d') 把特定字符串转成日期格式\n",
    "df['orderDate'] = pd.to_datetime(df.orderDate,format='%Y%m%d')\n",
    "df.head()"
   ]
  },
  {
   "cell_type": "code",
   "execution_count": 73,
   "metadata": {},
   "outputs": [],
   "source": [
    "#把日期列字符串变日期格式 手写函数实现\n",
    "'''\n",
    "def formDate(dataStr):\n",
    "    #dataStr = '19970422'\n",
    "    dataStr = dataStr[:4]+'-'+dataStr[4:6]+'-'+dataStr[-2:]\n",
    "    return dataStr#1997-04-22\n",
    "#test = ['19970326','19970320','19800526']\n",
    "#test = [19970326,19970320,19800526]\n",
    "dateList =list(df['orderDate'].values)\n",
    "#print(dateList)#[19970101, 19970112, 19970112, 19970102, 19970330\n",
    "newDataList = [formDate(str(d)) for d in dateList]\n",
    "#print(newDataList)#['1997-01-01', '1997-01-12', '1997-01-12', '1997-01-02',\n",
    "\n",
    "'''"
   ]
  },
  {
   "cell_type": "code",
   "execution_count": 72,
   "metadata": {},
   "outputs": [
    {
     "data": {
      "text/plain": [
       "\"\\n#新列替换数据表\\ndf['orderDate'] = newDataList\\ndf.head()\\n\""
      ]
     },
     "execution_count": 72,
     "metadata": {},
     "output_type": "execute_result"
    }
   ],
   "source": [
    "'''\n",
    "#新列替换数据表\n",
    "df['orderDate'] = newDataList\n",
    "df.head()\n",
    "'''"
   ]
  },
  {
   "cell_type": "code",
   "execution_count": 68,
   "metadata": {},
   "outputs": [
    {
     "data": {
      "text/html": [
       "<div>\n",
       "<style scoped>\n",
       "    .dataframe tbody tr th:only-of-type {\n",
       "        vertical-align: middle;\n",
       "    }\n",
       "\n",
       "    .dataframe tbody tr th {\n",
       "        vertical-align: top;\n",
       "    }\n",
       "\n",
       "    .dataframe thead th {\n",
       "        text-align: right;\n",
       "    }\n",
       "</style>\n",
       "<table border=\"1\" class=\"dataframe\">\n",
       "  <thead>\n",
       "    <tr style=\"text-align: right;\">\n",
       "      <th></th>\n",
       "      <th>uId</th>\n",
       "      <th>orderProducts</th>\n",
       "      <th>orderMoney</th>\n",
       "    </tr>\n",
       "  </thead>\n",
       "  <tbody>\n",
       "    <tr>\n",
       "      <th>count</th>\n",
       "      <td>69659.000000</td>\n",
       "      <td>69659.000000</td>\n",
       "      <td>69659.000000</td>\n",
       "    </tr>\n",
       "    <tr>\n",
       "      <th>mean</th>\n",
       "      <td>11470.854592</td>\n",
       "      <td>2.410040</td>\n",
       "      <td>35.893648</td>\n",
       "    </tr>\n",
       "    <tr>\n",
       "      <th>std</th>\n",
       "      <td>6819.904848</td>\n",
       "      <td>2.333924</td>\n",
       "      <td>36.281942</td>\n",
       "    </tr>\n",
       "    <tr>\n",
       "      <th>min</th>\n",
       "      <td>1.000000</td>\n",
       "      <td>1.000000</td>\n",
       "      <td>0.000000</td>\n",
       "    </tr>\n",
       "    <tr>\n",
       "      <th>25%</th>\n",
       "      <td>5506.000000</td>\n",
       "      <td>1.000000</td>\n",
       "      <td>14.490000</td>\n",
       "    </tr>\n",
       "    <tr>\n",
       "      <th>50%</th>\n",
       "      <td>11410.000000</td>\n",
       "      <td>2.000000</td>\n",
       "      <td>25.980000</td>\n",
       "    </tr>\n",
       "    <tr>\n",
       "      <th>75%</th>\n",
       "      <td>17273.000000</td>\n",
       "      <td>3.000000</td>\n",
       "      <td>43.700000</td>\n",
       "    </tr>\n",
       "    <tr>\n",
       "      <th>max</th>\n",
       "      <td>23570.000000</td>\n",
       "      <td>99.000000</td>\n",
       "      <td>1286.010000</td>\n",
       "    </tr>\n",
       "  </tbody>\n",
       "</table>\n",
       "</div>"
      ],
      "text/plain": [
       "                uId  orderProducts    orderMoney\n",
       "count  69659.000000   69659.000000  69659.000000\n",
       "mean   11470.854592       2.410040     35.893648\n",
       "std     6819.904848       2.333924     36.281942\n",
       "min        1.000000       1.000000      0.000000\n",
       "25%     5506.000000       1.000000     14.490000\n",
       "50%    11410.000000       2.000000     25.980000\n",
       "75%    17273.000000       3.000000     43.700000\n",
       "max    23570.000000      99.000000   1286.010000"
      ]
     },
     "execution_count": 68,
     "metadata": {},
     "output_type": "execute_result"
    }
   ],
   "source": [
    "#统计看总体（包括最大值，平均值，标准差之类的）\n",
    "df.describe()\n",
    "#==由总本统计量可知：\n",
    "#mean指标：用户平均购买2.4个商品，金额平均为34.8\n",
    "#【std指标：标准差 衡量 平均值的分散程度（个体的离散程度），\n",
    "#它大时表示大部分用户和平均值之差较大，小时表示大部分用户和平均值相差较小\n",
    "#从数据看，2.333924 36.281942表示用户消费行为较均衡稳定有一致性，消费差别不大\n",
    "#(改动了两处数据测试：\n",
    "#00003 19971115  1000   20000 ， 00005 19970722  80000   150000\n",
    "#std 马上变化明显：303.134137 574.355546)\n",
    "#】\n",
    "#【\n",
    "#25% 25分位数指标：\n",
    "#50%中位数指标：2个商品\n",
    "#75% 75 分位数指标：3个商品\n",
    "#分位数是连续分布的一组数中的点，表示是的位置（用来划分如人数多少），如中位数是数据的中间量，代表了中等水平，是一个”分水岭的角色“\n",
    "#分位数和平均数对比：平均数在有极大极小数据时不能很好的代表一组总体，\n",
    "#这时中位数的作用就出现了，***===它代表了数据的顺序，挑选一个中间位置的数量代表总体===***\n",
    "#如：本例指购买商品量从低到高排，中间那个数量，\n",
    "#从数据中看，***==购买量比如1,1,1,1,2,5,6,9,100 中位数2 \n",
    "#意义为买2个是一个分水岭，买多和买少的人对半开==***\n",
    "#75分位为3，则75%这个位置的人买了3个，前面75%少于3个，后面25%多于3个和中位数差不多，\n",
    "#说明分布较平稳，大数分用户订单购买量都不多】\n",
    "#max指标：单个用户在某天购买了最多商品数99个，金额最多1286\n",
    "#min指标：单个用户最少购买数和金额\n",
    "#（日期格式变字符串后不参与统计了，用户ID也不应参与统计，这里先不转暂不用管）\n",
    "#=="
   ]
  },
  {
   "cell_type": "code",
   "execution_count": 69,
   "metadata": {},
   "outputs": [
    {
     "name": "stdout",
     "output_type": "stream",
     "text": [
      "<class 'pandas.core.frame.DataFrame'>\n",
      "RangeIndex: 69659 entries, 0 to 69658\n",
      "Data columns (total 4 columns):\n",
      "uId              69659 non-null int64\n",
      "orderDate        69659 non-null object\n",
      "orderProducts    69659 non-null int64\n",
      "orderMoney       69659 non-null float64\n",
      "dtypes: float64(1), int64(2), object(1)\n",
      "memory usage: 2.1+ MB\n"
     ]
    }
   ],
   "source": [
    "#下面分析销费\n",
    "#看是否符合二八定律：20%的客户贡献了80%的订单量或销量\n",
    "df.info()#查看数据集情况，没有空值"
   ]
  },
  {
   "cell_type": "code",
   "execution_count": 76,
   "metadata": {},
   "outputs": [
    {
     "data": {
      "text/html": [
       "<div>\n",
       "<style scoped>\n",
       "    .dataframe tbody tr th:only-of-type {\n",
       "        vertical-align: middle;\n",
       "    }\n",
       "\n",
       "    .dataframe tbody tr th {\n",
       "        vertical-align: top;\n",
       "    }\n",
       "\n",
       "    .dataframe thead th {\n",
       "        text-align: right;\n",
       "    }\n",
       "</style>\n",
       "<table border=\"1\" class=\"dataframe\">\n",
       "  <thead>\n",
       "    <tr style=\"text-align: right;\">\n",
       "      <th></th>\n",
       "      <th>orderProducts</th>\n",
       "      <th>orderMoney</th>\n",
       "    </tr>\n",
       "    <tr>\n",
       "      <th>uId</th>\n",
       "      <th></th>\n",
       "      <th></th>\n",
       "    </tr>\n",
       "  </thead>\n",
       "  <tbody>\n",
       "    <tr>\n",
       "      <th>1</th>\n",
       "      <td>1</td>\n",
       "      <td>11.77</td>\n",
       "    </tr>\n",
       "    <tr>\n",
       "      <th>2</th>\n",
       "      <td>6</td>\n",
       "      <td>89.00</td>\n",
       "    </tr>\n",
       "    <tr>\n",
       "      <th>3</th>\n",
       "      <td>16</td>\n",
       "      <td>156.46</td>\n",
       "    </tr>\n",
       "    <tr>\n",
       "      <th>4</th>\n",
       "      <td>7</td>\n",
       "      <td>100.50</td>\n",
       "    </tr>\n",
       "    <tr>\n",
       "      <th>5</th>\n",
       "      <td>29</td>\n",
       "      <td>385.61</td>\n",
       "    </tr>\n",
       "  </tbody>\n",
       "</table>\n",
       "</div>"
      ],
      "text/plain": [
       "     orderProducts  orderMoney\n",
       "uId                           \n",
       "1                1       11.77\n",
       "2                6       89.00\n",
       "3               16      156.46\n",
       "4                7      100.50\n",
       "5               29      385.61"
      ]
     },
     "execution_count": 76,
     "metadata": {},
     "output_type": "execute_result"
    }
   ],
   "source": [
    "#【==上面我们分析的是每笔订单，以下以用户为粒度分析，方法是以用户分组后再统计==】\n",
    "#按用户id groupby分组 用户有多次销费\n",
    "userDf = df.groupby('uId').sum()#分组求和\n",
    "userDf.head()"
   ]
  },
  {
   "cell_type": "code",
   "execution_count": 78,
   "metadata": {},
   "outputs": [
    {
     "data": {
      "text/html": [
       "<div>\n",
       "<style scoped>\n",
       "    .dataframe tbody tr th:only-of-type {\n",
       "        vertical-align: middle;\n",
       "    }\n",
       "\n",
       "    .dataframe tbody tr th {\n",
       "        vertical-align: top;\n",
       "    }\n",
       "\n",
       "    .dataframe thead th {\n",
       "        text-align: right;\n",
       "    }\n",
       "</style>\n",
       "<table border=\"1\" class=\"dataframe\">\n",
       "  <thead>\n",
       "    <tr style=\"text-align: right;\">\n",
       "      <th></th>\n",
       "      <th>orderProducts</th>\n",
       "      <th>orderMoney</th>\n",
       "    </tr>\n",
       "  </thead>\n",
       "  <tbody>\n",
       "    <tr>\n",
       "      <th>count</th>\n",
       "      <td>23570.000000</td>\n",
       "      <td>23570.000000</td>\n",
       "    </tr>\n",
       "    <tr>\n",
       "      <th>mean</th>\n",
       "      <td>7.122656</td>\n",
       "      <td>106.080426</td>\n",
       "    </tr>\n",
       "    <tr>\n",
       "      <th>std</th>\n",
       "      <td>16.983531</td>\n",
       "      <td>240.925195</td>\n",
       "    </tr>\n",
       "    <tr>\n",
       "      <th>min</th>\n",
       "      <td>1.000000</td>\n",
       "      <td>0.000000</td>\n",
       "    </tr>\n",
       "    <tr>\n",
       "      <th>25%</th>\n",
       "      <td>1.000000</td>\n",
       "      <td>19.970000</td>\n",
       "    </tr>\n",
       "    <tr>\n",
       "      <th>50%</th>\n",
       "      <td>3.000000</td>\n",
       "      <td>43.395000</td>\n",
       "    </tr>\n",
       "    <tr>\n",
       "      <th>75%</th>\n",
       "      <td>7.000000</td>\n",
       "      <td>106.475000</td>\n",
       "    </tr>\n",
       "    <tr>\n",
       "      <th>max</th>\n",
       "      <td>1033.000000</td>\n",
       "      <td>13990.930000</td>\n",
       "    </tr>\n",
       "  </tbody>\n",
       "</table>\n",
       "</div>"
      ],
      "text/plain": [
       "       orderProducts    orderMoney\n",
       "count   23570.000000  23570.000000\n",
       "mean        7.122656    106.080426\n",
       "std        16.983531    240.925195\n",
       "min         1.000000      0.000000\n",
       "25%         1.000000     19.970000\n",
       "50%         3.000000     43.395000\n",
       "75%         7.000000    106.475000\n",
       "max      1033.000000  13990.930000"
      ]
     },
     "execution_count": 78,
     "metadata": {},
     "output_type": "execute_result"
    }
   ],
   "source": [
    "userDf.describe()\n",
    "#由统计结果可知，每个用户平均购买7个产品，最多买1033张，\n",
    "#【用户平均消费106元，中位数43元，说明部分高消费用户拉高了平均消费额】"
   ]
  },
  {
   "cell_type": "code",
   "execution_count": 81,
   "metadata": {},
   "outputs": [
    {
     "data": {
      "text/plain": [
       "<matplotlib.axes._subplots.AxesSubplot at 0x8d0612ab70>"
      ]
     },
     "execution_count": 81,
     "metadata": {},
     "output_type": "execute_result"
    },
    {
     "data": {
      "image/png": "[encoded data removed]",
      "text/plain": [
       "<Figure size 432x288 with 1 Axes>"
      ]
     },
     "metadata": {
      "needs_background": "light"
     },
     "output_type": "display_data"
    }
   ],
   "source": [
    "#画图看下按月分组的消费总额\n",
    "df.groupby('orderDate').orderMoney.sum().plot()\n",
    "#【分组后随后在组内做一个求和操作，sum()前加字段，是统计某个指标的求和】\n",
    "#由图分析可知：1月消费较高，后面逐渐减弱下降，后面分析原因，看是否有离群点（异常点）"
   ]
  },
  {
   "cell_type": "code",
   "execution_count": null,
   "metadata": {},
   "outputs": [],
   "source": [
    "#绘制每笔订单的散点图==》》==\n"
   ]
  }
 ],
 "metadata": {
  "kernelspec": {
   "display_name": "Python 3",
   "language": "python",
   "name": "python3"
  },
  "language_info": {
   "codemirror_mode": {
    "name": "ipython",
    "version": 3
   },
   "file_extension": ".py",
   "mimetype": "text/x-python",
   "name": "python",
   "nbconvert_exporter": "python",
   "pygments_lexer": "ipython3",
   "version": "3.6.8"
  }
 },
 "nbformat": 4,
 "nbformat_minor": 2
}
