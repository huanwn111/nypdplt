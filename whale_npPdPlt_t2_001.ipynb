{
 "cells": [
  {
   "cell_type": "markdown",
   "metadata": {},
   "source": [
    "# pandas摘要总结\n",
    "task2\n",
    "\n"
   ]
  },
  {
   "cell_type": "code",
   "execution_count": 22,
   "metadata": {},
   "outputs": [],
   "source": [
    "import pandas as pd\n",
    "import numpy as np"
   ]
  },
  {
   "cell_type": "code",
   "execution_count": 2,
   "metadata": {},
   "outputs": [
    {
     "name": "stdout",
     "output_type": "stream",
     "text": [
      "0    1\n",
      "1    5\n",
      "2    9\n",
      "3    6\n",
      "dtype: int64\n"
     ]
    }
   ],
   "source": [
    "#===series===\n",
    "#定义一个序列：【pd.Series(列表)大写】\n",
    "sr = pd.Series([1,5,9,6])\n",
    "print(sr)"
   ]
  },
  {
   "cell_type": "code",
   "execution_count": 19,
   "metadata": {},
   "outputs": [
    {
     "name": "stdout",
     "output_type": "stream",
     "text": [
      "r1    1\n",
      "r2    5\n",
      "r2    9\n",
      "r4    6\n",
      "dtype: int64\n",
      "RangeIndex(start=0, stop=4, step=1)\n",
      "Index(['r1', 'r2', 'r2', 'r4'], dtype='object')\n",
      "r2    5\n",
      "r2    9\n",
      "dtype: int64\n",
      "r2    5\n",
      "r2    9\n",
      "r4    6\n",
      "dtype: int64\n"
     ]
    }
   ],
   "source": [
    "#加索引【传参,index=[列表，个数与数据行数相等]】\n",
    "sr2 = pd.Series([1,5,9,6],index=['r1','r2','r2','r4'])#索引可以重名\n",
    "print(sr2)\n",
    "print(sr.index)#上面索引是默认0到1步长为1的range数范围\n",
    "print(sr2.index)#下面索引是一个对象，可以用.index查看\n",
    "print(sr2['r2'])#可以通过 对象['索引名']取到该行值，【可见Series可以看做是一个定长的有序字典，键值对就是索引加列值】\n",
    "print(sr2[['r2','r4']])#取多个，两层[]，带着索引号的\n",
    "\n",
    "#【问题：两列数据怎么加？因为它是一维的，\n",
    "#只有行这个维度，所以只有一列，多了就不能标识了，那要用DataFrame，\n",
    "#这是它二者的区别，注意到没？有意思吧，还糊涂吗？终于搞懂了吧？\n",
    "#明白了原理用起来才不糊涂，不需要每次都忘记，去现查】"
   ]
  },
  {
   "cell_type": "code",
   "execution_count": 21,
   "metadata": {},
   "outputs": [
    {
     "name": "stdout",
     "output_type": "stream",
     "text": [
      "row1    第二行\n",
      "row3    第三行\n",
      "row4    第四行\n",
      "row5    第五行\n",
      "dtype: object\n"
     ]
    }
   ],
   "source": [
    "#上面说Series其实是一个字典，所以可以用字典赋值\n",
    "dictSr = {\"row1\":\"第一行\",\"row1\":\"第二行\",\"row3\":\"第三行\",\"row4\":\"第四行\",\"row5\":\"第五行\"}\n",
    "sr3 = pd.Series(dictSr)\n",
    "print(sr3)\n",
    "#【注意：这样弄索引不可重名，row1有两个，只选了一个，因为字典的键是唯一的，和上面后赋值的index有区别】"
   ]
  },
  {
   "cell_type": "code",
   "execution_count": 23,
   "metadata": {},
   "outputs": [
    {
     "name": "stdout",
     "output_type": "stream",
     "text": [
      "row1    第二行\n",
      "row1    第二行\n",
      "row3    第三行\n",
      "row4    第四行\n",
      "row5    第五行\n",
      "row6    NaN\n",
      "dtype: object\n"
     ]
    }
   ],
   "source": [
    "#【但是可以这样，后传入一个index，格式是一组列表】\n",
    "deictIndex = ['row1','row1','row3','row4','row5','row6']\n",
    "sr4 = pd.Series(dictSr,index=deictIndex)\n",
    "print(sr4)\n",
    "#注意：后加的索引，多了也可以加，值没有就为NaN，它是根据索引标签自动对齐数据，随时改索引\n"
   ]
  },
  {
   "cell_type": "code",
   "execution_count": 25,
   "metadata": {},
   "outputs": [
    {
     "name": "stdout",
     "output_type": "stream",
     "text": [
      "row1    False\n",
      "row1    False\n",
      "row3    False\n",
      "row4    False\n",
      "row5    False\n",
      "row6     True\n",
      "dtype: bool\n",
      "row1     True\n",
      "row1     True\n",
      "row3     True\n",
      "row4     True\n",
      "row5     True\n",
      "row6    False\n",
      "dtype: bool\n"
     ]
    }
   ],
   "source": [
    "#取空，非空条件\n",
    "print(sr4.isnull())\n",
    "print(sr4.notnull())"
   ]
  },
  {
   "cell_type": "code",
   "execution_count": 28,
   "metadata": {},
   "outputs": [
    {
     "name": "stdout",
     "output_type": "stream",
     "text": [
      "row6    NaN\n",
      "dtype: object\n",
      "row1    第二行\n",
      "row1    第二行\n",
      "row3    第三行\n",
      "row4    第四行\n",
      "row5    第五行\n",
      "dtype: object\n"
     ]
    }
   ],
   "source": [
    "#【空和非空条件传入sr4对象取出对应值】\n",
    "print(sr4[sr4.isnull()])\n",
    "print(sr4[sr4.notnull()])"
   ]
  },
  {
   "cell_type": "code",
   "execution_count": 7,
   "metadata": {},
   "outputs": [
    {
     "name": "stdout",
     "output_type": "stream",
     "text": [
      "   姓名  年龄 job\n",
      "0  张三  18  IT\n",
      "1  李四  25  电影\n",
      "2  王五  16  特工\n",
      "3  赵六  85  间谍\n"
     ]
    }
   ],
   "source": [
    "#==dataFrame==\n",
    "#建DataFrame，\n",
    "#【pd.DataFrame(字典：键是列名，值是列值，各列值等长列表或数组格式)】\n",
    "data = {'姓名':['张三','李四','王五','赵六'],\n",
    "       '年龄':[18,25,16,85],\n",
    "       'job':['IT','电影','特工','间谍']}\n",
    "df = pd.DataFrame(data)\n",
    "print(df)\n",
    "#【是不是非常简单，哈哈哈，为什么之前一直糊涂呢，要用自己熟悉的实例做一下就懂了\n",
    "#明白了原理（DataFrame二维 行、列两维度，用字典输入，Series一维，行维度，列表输入）用起来才不糊涂，不需要每次都忘记，去现查】"
   ]
  },
  {
   "cell_type": "code",
   "execution_count": 8,
   "metadata": {},
   "outputs": [
    {
     "name": "stdout",
     "output_type": "stream",
     "text": [
      "    name  age job  姓名  年龄\n",
      "I    NaN  NaN  IT  张三  18\n",
      "II   NaN  NaN  电影  李四  25\n",
      "III  NaN  NaN  特工  王五  16\n",
      "IV   NaN  NaN  间谍  赵六  85\n"
     ]
    }
   ],
   "source": [
    "#也可以指定列名和index 传参 ,columns = [列表],index=[列表]\n",
    "df2 = pd.DataFrame(data, columns = ['name','age','job','姓名','年龄'],index=['I','II','III','IV'])\n",
    "print(df2)\n",
    "#注意，这里指定其它列表时是默认加一列，没有替换原来的，\n",
    "#但是index是可以任意改的。\n",
    "#【上面Series也是可以改index，Series是一行一行一维数据，没有列维度，所以没有列名。】\n",
    "#所以不存在多列？"
   ]
  },
  {
   "cell_type": "code",
   "execution_count": 12,
   "metadata": {},
   "outputs": [
    {
     "name": "stdout",
     "output_type": "stream",
     "text": [
      "I      张三\n",
      "II     李四\n",
      "III    王五\n",
      "IV     赵六\n",
      "Name: 姓名, dtype: object\n",
      "I      18\n",
      "II     25\n",
      "III    16\n",
      "IV     85\n",
      "Name: 年龄, dtype: int64\n"
     ]
    }
   ],
   "source": [
    "#取出一列Series【因为是一个字典，所以可以用 对象[键名]的方式取出一列】\n",
    "\n",
    "print(df2['姓名'])#可用 对象[列名]取某列值\n",
    "print(df2.年龄)#【也可用 对象.列表 取某列值，名字不用加引号，中文也不用加】"
   ]
  },
  {
   "cell_type": "code",
   "execution_count": 19,
   "metadata": {},
   "outputs": [
    {
     "name": "stdout",
     "output_type": "stream",
     "text": [
      "name    NaN\n",
      "age     NaN\n",
      "job      特工\n",
      "姓名       王五\n",
      "年龄       16\n",
      "Name: III, dtype: object\n"
     ]
    }
   ],
   "source": [
    "#取某行 【取列可以用 df[列名] 直接过滤，因为列是键名，直接就把键的值调出来了。\n",
    "#但取行要用一个函数辅助（pandas写好的处理此类问题的函数） df.loc[行名]，或者其它.iloc .ix之类的】\n",
    "print(df2.loc['III'])"
   ]
  },
  {
   "cell_type": "code",
   "execution_count": 37,
   "metadata": {},
   "outputs": [
    {
     "name": "stdout",
     "output_type": "stream",
     "text": [
      "    name  age job  姓名  年龄\n",
      "I    NaN   15  IT  张三  18\n",
      "II   NaN   15  电影  李四  25\n",
      "III  NaN   15  特工  王五  16\n",
      "IV   NaN   15  间谍  赵六  85\n",
      "    name  age job  姓名  年龄\n",
      "I    NaN  0.0  IT  张三  18\n",
      "II   NaN  3.0  电影  李四  25\n",
      "III  NaN  6.0  特工  王五  16\n",
      "IV   NaN  9.0  间谍  赵六  85\n",
      "    name  age job  姓名  年龄\n",
      "I    NaN   10  IT  张三  18\n",
      "II   NaN   80  电影  李四  25\n",
      "III  NaN   90  特工  王五  16\n",
      "IV   NaN   45  间谍  赵六  85\n"
     ]
    }
   ],
   "source": [
    "#修改列内容，给列赋值 df[列名]=值\n",
    "df2['age'] = 15\n",
    "print(df2)\n",
    "df2['age'] = np.arange(0.,10.,3)#【生成0.到10.的一组数，每次间隔3个】\n",
    "print(df2)\n",
    "df2['age'] = [10,80,90,45]#行数要匹配\n",
    "print(df2)"
   ]
  },
  {
   "cell_type": "code",
   "execution_count": 38,
   "metadata": {},
   "outputs": [
    {
     "name": "stdout",
     "output_type": "stream",
     "text": [
      "    name  age job  姓名  年龄\n",
      "I     一一   10  IT  张三  18\n",
      "II    二二   80  电影  李四  25\n",
      "III  NaN   90  特工  王五  16\n",
      "IV    四四   45  间谍  赵六  85\n"
     ]
    }
   ],
   "source": [
    "#【给对应index赋值，可以定义series（也就是行数据），对应行号索引和值】\n",
    "val = pd.Series(['一一','二二','四四'],index = ['I','II','IV'])\n",
    "df2['name'] = val\n",
    "print(df2)\n",
    "#这样可以指定行号加数据，没有值的填空NaN"
   ]
  },
  {
   "cell_type": "code",
   "execution_count": 42,
   "metadata": {},
   "outputs": [
    {
     "name": "stdout",
     "output_type": "stream",
     "text": [
      "    name  age job  姓名  年龄 newName\n",
      "I     一一   10  IT  张三  18      一一\n",
      "II    二二   80  电影  李四  25      二二\n",
      "III  NaN   90  特工  王五  16     NaN\n",
      "IV    四四   45  间谍  赵六  85      四四\n"
     ]
    }
   ],
   "source": [
    "#对不存在的新列赋值会自动创建一个新列\n",
    "df2['newName'] = val\n",
    "print(df2)\n"
   ]
  },
  {
   "cell_type": "code",
   "execution_count": 43,
   "metadata": {},
   "outputs": [
    {
     "name": "stdout",
     "output_type": "stream",
     "text": [
      "    name  age job  姓名  年龄\n",
      "I     一一   10  IT  张三  18\n",
      "II    二二   80  电影  李四  25\n",
      "III  NaN   90  特工  王五  16\n",
      "IV    四四   45  间谍  赵六  85\n"
     ]
    }
   ],
   "source": [
    "#删除列 del df['列名']\n",
    "del df2['newName']\n",
    "print(df2)"
   ]
  },
  {
   "cell_type": "code",
   "execution_count": null,
   "metadata": {},
   "outputs": [],
   "source": [
    "#赋值嵌套字典===》》===图6693下"
   ]
  }
 ],
 "metadata": {
  "kernelspec": {
   "display_name": "Python 3",
   "language": "python",
   "name": "python3"
  },
  "language_info": {
   "codemirror_mode": {
    "name": "ipython",
    "version": 3
   },
   "file_extension": ".py",
   "mimetype": "text/x-python",
   "name": "python",
   "nbconvert_exporter": "python",
   "pygments_lexer": "ipython3",
   "version": "3.6.8"
  }
 },
 "nbformat": 4,
 "nbformat_minor": 2
}
