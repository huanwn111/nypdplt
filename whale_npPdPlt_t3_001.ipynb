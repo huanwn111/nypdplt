{
 "cells": [
  {
   "cell_type": "markdown",
   "metadata": {},
   "source": [
    "# task3 pandas 数据加载，读取与文件格式"
   ]
  },
  {
   "cell_type": "code",
   "execution_count": 1,
   "metadata": {},
   "outputs": [],
   "source": [
    "import pandas as pd\n"
   ]
  },
  {
   "cell_type": "code",
   "execution_count": 61,
   "metadata": {},
   "outputs": [
    {
     "name": "stdout",
     "output_type": "stream",
     "text": [
      "   姓名  age  地址\n",
      "1  小一   15  山东\n",
      "2  小二   16  山东\n",
      "3  三三   80  北京\n",
      "4  四四   20  湖南\n",
      "5  五五   15  北京\n"
     ]
    }
   ],
   "source": [
    "#写文件\n",
    "datas = {\"姓名\":[\"小一\",\"小二\",\"三三\",\"四四\",\"五五\"],\n",
    "        \"age\":[15,16,80,20,15],\n",
    "        \"地址\":[\"山东\",\"山东\",\"北京\",\"湖南\",\"北京\"]}\n",
    "df = pd.DataFrame(datas,index=range(1,6))\n",
    "print(df)\n",
    "df.to_csv('D://whalePdCsv_test001.csv')"
   ]
  },
  {
   "cell_type": "code",
   "execution_count": 62,
   "metadata": {},
   "outputs": [
    {
     "name": "stdout",
     "output_type": "stream",
     "text": [
      "   Unnamed: 0  姓名  age  地址\n",
      "0           1  小一   15  山东\n",
      "1           2  小二   16  山东\n",
      "2           3  三三   80  北京\n",
      "3           4  四四   20  湖南\n",
      "4           5  五五   15  北京\n"
     ]
    }
   ],
   "source": [
    "#读文件\n",
    "#.read_csv读csv文件，默认以逗号分割\n",
    "dfR = pd.read_csv('D://whalePdCsv_test001.csv')\n",
    "print(dfR)"
   ]
  },
  {
   "cell_type": "code",
   "execution_count": 1,
   "metadata": {},
   "outputs": [
    {
     "data": {
      "text/plain": [
       "'\\ndfR2 = pd.read_table(\\'D://whalePdCsv_test001.csv\\')\\nprint(dfR2)\\ndfR3 = pd.read_table(\\'D://whalePdCsv_test001.csv\\',sep=\",\")\\nprint(dfR3)\\n'"
      ]
     },
     "execution_count": 1,
     "metadata": {},
     "output_type": "execute_result"
    }
   ],
   "source": [
    "#read_table 读取表格，不指定sep=\"\"以什么分割，即按行，默认以\\t 制表符分隔\n",
    "'''\n",
    "dfR2 = pd.read_table('D://whalePdCsv_test001.csv')\n",
    "print(dfR2)\n",
    "dfR3 = pd.read_table('D://whalePdCsv_test001.csv',sep=\",\")\n",
    "print(dfR3)\n",
    "'''"
   ]
  },
  {
   "cell_type": "code",
   "execution_count": 63,
   "metadata": {},
   "outputs": [
    {
     "name": "stdout",
     "output_type": "stream",
     "text": [
      "     0   1    2   3\n",
      "0  NaN  姓名  age  地址\n",
      "1  1.0  小一   15  山东\n",
      "2  2.0  小二   16  山东\n",
      "3  3.0  三三   80  北京\n",
      "4  4.0  四四   20  湖南\n",
      "5  5.0  五五   15  北京\n",
      "    id name  age addr\n",
      "0  NaN   姓名  age   地址\n",
      "1  1.0   小一   15   山东\n",
      "2  2.0   小二   16   山东\n",
      "3  3.0   三三   80   北京\n",
      "4  4.0   四四   20   湖南\n",
      "5  5.0   五五   15   北京\n"
     ]
    }
   ],
   "source": [
    "#不读列名\n",
    "dfR4 = pd.read_csv('D://whalePdCsv_test001.csv',header=None)\n",
    "print(dfR4)\n",
    "#指定列名\n",
    "dfR5 = pd.read_csv('D://whalePdCsv_test001.csv',names=['id','name','age','addr'])\n",
    "print(dfR5)\n",
    "#注意，本段文字有列名，所以适合不加names，直接用第一列做列名，没有标题的则需指定一行，不用第一行做列名。\n"
   ]
  },
  {
   "cell_type": "code",
   "execution_count": 64,
   "metadata": {},
   "outputs": [
    {
     "name": "stdout",
     "output_type": "stream",
     "text": [
      "   Unnamed: 0  姓名  age  地址\n",
      "0           1  小一   15  山东\n",
      "1           2  小二   16  山东\n",
      "2           3  三三   80  北京\n",
      "3           4  四四   20  湖南\n",
      "4           5  五五   15  北京\n",
      "   id name  age addr\n",
      "0   1   小一   15   山东\n",
      "1   2   小二   16   山东\n",
      "2   3   三三   80   北京\n",
      "3   4   四四   20   湖南\n",
      "4   5   五五   15   北京\n",
      "    id name  age addr\n",
      "1)   1   小一   15   山东\n",
      "2)   2   小二   16   山东\n",
      "3)   3   三三   80   北京\n",
      "4)   4   四四   20   湖南\n",
      "5)   5   五五   15   北京\n"
     ]
    },
    {
     "data": {
      "text/plain": [
       "\"\\n#改某个index\\ndfR7 = dfR6.rename(index={0:'001'})#上面index设置过了，这里就不生效了？\\nprint(dfR7)\\n\""
      ]
     },
     "execution_count": 64,
     "metadata": {},
     "output_type": "execute_result"
    }
   ],
   "source": [
    "#对已有列名做修改 df.coumns = []\n",
    "dfR6 = pd.read_csv('D://whalePdCsv_test001.csv')\n",
    "print(dfR6)\n",
    "dfR6.columns = ['id','name','age','addr']\n",
    "print(dfR6)\n",
    "\n",
    "#修改index\n",
    "#dfR8 = dfR6.index = [\"1)\",\"2)\",\"3)\",\"4)\"]#不用赋值，是在原有基础上改的\n",
    "dfR6.index = [\"1)\",\"2)\",\"3)\",\"4)\",\"5)\"]\n",
    "\n",
    "print(dfR6)\n",
    "'''\n",
    "#改某个index\n",
    "dfR7 = dfR6.rename(index={0:'001'})#上面index设置过了，这里就不生效了？\n",
    "print(dfR7)\n",
    "'''"
   ]
  },
  {
   "cell_type": "code",
   "execution_count": 87,
   "metadata": {},
   "outputs": [
    {
     "name": "stdout",
     "output_type": "stream",
     "text": [
      "    name age addr\n",
      "id               \n",
      "1.0   小一  15   山东\n",
      "2.0   小二  16   山东\n",
      "3.0   三三  80   北京\n",
      "4.0   四四  20   湖南\n",
      "5.0   五五  15   北京\n",
      "   name  age addr\n",
      "id               \n",
      "1    小一   15   山东\n",
      "2    小二   16   山东\n",
      "3    三三   80   北京\n",
      "4    四四   20   湖南\n",
      "5    五五   15   北京\n"
     ]
    }
   ],
   "source": [
    "#把上面id列做索引\n",
    "dfR9 = pd.read_csv('D://whalePdCsv_test001.csv',names=['id','name','age','addr']\n",
    "                  ,index_col = 'id')\n",
    "print(dfR9[1:])#过滤掉第一行标题行\n",
    "#【或用skiprows跳过第一行】\n",
    "dfR9_2 = pd.read_csv('D://whalePdCsv_test001.csv',names=['id','name','age','addr']\n",
    "                  ,index_col = 'id',skiprows=[0])\n",
    "# skiprows = [0,3,4] #跳过多行\n",
    "print(dfR9_2)"
   ]
  },
  {
   "cell_type": "code",
   "execution_count": 66,
   "metadata": {},
   "outputs": [
    {
     "name": "stdout",
     "output_type": "stream",
     "text": [
      "         name age\n",
      "addr id          \n",
      "山东   1.0   小一  15\n",
      "     2.0   小二  16\n",
      "北京   3.0   三三  80\n",
      "湖南   4.0   四四  20\n",
      "北京   5.0   五五  15\n"
     ]
    }
   ],
   "source": [
    "#指定两组索引 id和addr\n",
    "dfR10 = pd.read_csv('D://whalePdCsv_test001.csv',names=['id','name','age','addr']\n",
    "                  ,index_col = ['addr','id'])\n",
    "\n",
    "print(dfR10[1:])#数据中省份的的记录挨着的则会被合并，如山东，不挨着不会自动合并，如北京"
   ]
  },
  {
   "cell_type": "code",
   "execution_count": 89,
   "metadata": {},
   "outputs": [
    {
     "name": "stdout",
     "output_type": "stream",
     "text": [
      "  id name age addr\n",
      "0       1 小一 15 山东\n",
      "1       2 小二 16 山东\n",
      "2       3 三三 80 北京\n",
      "3        4 四四 20  \n",
      "4   5  五五  15   北京\n",
      "   id name  age addr\n",
      "0   1   小一   15   山东\n",
      "1   2   小二   16   山东\n",
      "2   3   三三   80   北京\n",
      "3   4   四四   20  NaN\n",
      "4   5   五五   15   北京\n"
     ]
    }
   ],
   "source": [
    "#分隔符不定的用正则匹配 sep=\"\\t\"这其实就是一种正则\n",
    "#whalePdRead_test002.txt是以空白符分割的text文件，\n",
    "#所以read_csv默认以,分割不可，要传参sep\n",
    "#dfRd1 = pd.read_csv('D://whalePdRead_test002.txt')\n",
    "#print(dfRd1)\n",
    "dfRd1 = pd.read_csv('D://whalePdRead_test002.txt',sep='\\t',encoding='gbk')\n",
    "#以上可换成read_table一样\n",
    "print(dfRd1)#这样分\n",
    "#上面\\t以tab分隔\n",
    "#用\\s+ 任意多个空格 分隔\n",
    "dfRd2 = pd.read_csv('D://whalePdRead_test002.txt',sep='\\s+',encoding='gbk')\n",
    "print(dfRd2)"
   ]
  },
  {
   "cell_type": "code",
   "execution_count": 97,
   "metadata": {},
   "outputs": [
    {
     "name": "stdout",
     "output_type": "stream",
     "text": [
      "   id name  age addr\n",
      "0   1   小一   15   山东\n",
      "1   2   小二   16   山东\n",
      "2   3   三三   80   北京\n",
      "3   4   四四   20  NaN\n",
      "4   5   五五   15   北京\n"
     ]
    }
   ],
   "source": [
    "#缺失值表示 na_values = 0 缺失值用0表示\n",
    "dfRd3 = pd.read_csv('D://whalePdRead_test002.txt',\n",
    "                    sep='\\s+',\n",
    "                    encoding='gbk',\n",
    "                    na_values=0\n",
    "                   )\n",
    "print(dfRd3)\n",
    "#没有显示出0来？"
   ]
  },
  {
   "cell_type": "code",
   "execution_count": null,
   "metadata": {},
   "outputs": [],
   "source": [
    "#分块读取====》》》===图6750\n"
   ]
  }
 ],
 "metadata": {
  "kernelspec": {
   "display_name": "Python 3",
   "language": "python",
   "name": "python3"
  },
  "language_info": {
   "codemirror_mode": {
    "name": "ipython",
    "version": 3
   },
   "file_extension": ".py",
   "mimetype": "text/x-python",
   "name": "python",
   "nbconvert_exporter": "python",
   "pygments_lexer": "ipython3",
   "version": "3.6.8"
  }
 },
 "nbformat": 4,
 "nbformat_minor": 2
}
